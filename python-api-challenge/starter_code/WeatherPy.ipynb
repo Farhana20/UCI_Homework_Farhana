{
 "cells": [
  {
   "cell_type": "markdown",
   "metadata": {},
   "source": [
    "# WeatherPy\n",
    "----\n",
    "\n",
    "#### Note\n",
    "* Instructions have been included for each segment. You do not have to follow them exactly, but they are included to help you think through the steps."
   ]
  },
  {
   "cell_type": "code",
   "execution_count": 34,
   "metadata": {
    "scrolled": true
   },
   "outputs": [],
   "source": [
    "# Dependencies\n",
    "\n",
    "import requests\n",
    "import json\n",
    "import datetime\n",
    "import numpy as np\n",
    "import pandas as pd\n",
    "import matplotlib.pyplot as plt\n",
    "from scipy.stats import linregress\n",
    "import scipy.stats as st\n",
    "from citipy import citipy\n",
    "from api_keys import weather_api_key"
   ]
  },
  {
   "cell_type": "code",
   "execution_count": 2,
   "metadata": {},
   "outputs": [],
   "source": [
    "# Save config information\n",
    "url = \"http://api.openweathermap.org/data/2.5/weather?\"\n",
    "city = \"castro\"\n",
    "\n",
    "# Build query URL\n",
    "query_url = url + \"appid=\" + weather_api_key + \"&q=\" + city"
   ]
  },
  {
   "cell_type": "markdown",
   "metadata": {},
   "source": [
    "## Generate Cities List"
   ]
  },
  {
   "cell_type": "code",
   "execution_count": 3,
   "metadata": {},
   "outputs": [
    {
     "data": {
      "text/plain": [
       "array([-25.84951622,  56.925413  , -83.13391265, ...,  54.27420969,\n",
       "       -66.16537752,  35.73918338])"
      ]
     },
     "execution_count": 3,
     "metadata": {},
     "output_type": "execute_result"
    }
   ],
   "source": [
    "# Generate random list\n",
    "lat=np.random.uniform(low=-90, high=90, size=1500)\n",
    "lat"
   ]
  },
  {
   "cell_type": "code",
   "execution_count": 4,
   "metadata": {},
   "outputs": [
    {
     "data": {
      "text/plain": [
       "array([ -64.41286204, -143.48669985, -151.58170805, ..., -143.25655995,\n",
       "       -116.83128091, -130.97697   ])"
      ]
     },
     "execution_count": 4,
     "metadata": {},
     "output_type": "execute_result"
    }
   ],
   "source": [
    "lon=np.random.uniform(low=-180, high=180, size=1500)\n",
    "lon"
   ]
  },
  {
   "cell_type": "code",
   "execution_count": null,
   "metadata": {},
   "outputs": [],
   "source": []
  },
  {
   "cell_type": "code",
   "execution_count": 5,
   "metadata": {},
   "outputs": [],
   "source": [
    "cities = []\n",
    "positions= list(zip(lat,lon))\n",
    "#positions\n",
    "\n",
    "for position in positions:\n",
    "   \n",
    "    city = citipy.nearest_city(position[0], position[1]).city_name\n",
    "    if city not in cities:\n",
    "        cities.append(city)"
   ]
  },
  {
   "cell_type": "code",
   "execution_count": 6,
   "metadata": {},
   "outputs": [],
   "source": [
    "#print(cities)"
   ]
  },
  {
   "cell_type": "code",
   "execution_count": 7,
   "metadata": {},
   "outputs": [
    {
     "data": {
      "text/plain": [
       "620"
      ]
     },
     "execution_count": 7,
     "metadata": {},
     "output_type": "execute_result"
    }
   ],
   "source": [
    "len(cities)"
   ]
  },
  {
   "cell_type": "markdown",
   "metadata": {},
   "source": [
    "### Perform API Calls\n",
    "* Perform a weather check on each city using a series of successive API calls.\n",
    "* Include a print log of each city as it'sbeing processed (with the city number and city name).\n"
   ]
  },
  {
   "cell_type": "code",
   "execution_count": 8,
   "metadata": {
    "scrolled": true
   },
   "outputs": [],
   "source": [
    "url = \"http://api.openweathermap.org/data/2.5/weather?\"\n",
    "units = \"metric\""
   ]
  },
  {
   "cell_type": "code",
   "execution_count": 9,
   "metadata": {},
   "outputs": [
    {
     "data": {
      "text/plain": [
       "'ef947681f26f8df1851951dae43c66d8'"
      ]
     },
     "execution_count": 9,
     "metadata": {},
     "output_type": "execute_result"
    }
   ],
   "source": [
    "weather_api_key"
   ]
  },
  {
   "cell_type": "code",
   "execution_count": 10,
   "metadata": {},
   "outputs": [
    {
     "data": {
      "text/plain": [
       "'http://api.openweathermap.org/data/2.5/weather?appid=ef947681f26f8df1851951dae43c66d8&units=metric&q='"
      ]
     },
     "execution_count": 10,
     "metadata": {},
     "output_type": "execute_result"
    }
   ],
   "source": [
    "# Build query URL\n",
    "query1_url = f\"{url}appid={weather_api_key}&units={units}&q=\"\n",
    "query1_url"
   ]
  },
  {
   "cell_type": "code",
   "execution_count": 11,
   "metadata": {},
   "outputs": [
    {
     "name": "stdout",
     "output_type": "stream",
     "text": [
      "Processing Record 1 : tucuman\n",
      "Processing Record 2 : haines junction\n",
      "Processing Record 3 : mataura\n",
      "Processing Record 4 : ushuaia\n",
      "Processing Record 5 : bredasdorp\n",
      "Processing Record 6 : saint-philippe\n",
      "Processing Record 7 : vila franca do campo\n",
      "Processing Record 8 : catuday\n",
      "City not found. Skipping .....\n",
      "Processing Record 9 : pevek\n",
      "Processing Record 10 : amguri\n",
      "Processing Record 11 : hermanus\n",
      "Processing Record 12 : saldanha\n",
      "Processing Record 13 : tuatapere\n",
      "Processing Record 14 : cayenne\n",
      "Processing Record 15 : east london\n",
      "Processing Record 16 : tuktoyaktuk\n",
      "Processing Record 17 : necochea\n",
      "Processing Record 18 : kaitangata\n",
      "Processing Record 19 : valdivia\n",
      "Processing Record 20 : cape town\n",
      "Processing Record 21 : rikitea\n",
      "Processing Record 22 : castro\n",
      "Processing Record 23 : ampanihy\n",
      "Processing Record 24 : saint george\n",
      "Processing Record 25 : kudahuvadhoo\n",
      "Processing Record 26 : cherskiy\n",
      "Processing Record 27 : qaanaaq\n",
      "Processing Record 28 : bethel\n",
      "Processing Record 29 : kapaa\n",
      "Processing Record 30 : vanavara\n",
      "Processing Record 31 : lisakovsk\n",
      "Processing Record 32 : punta arenas\n",
      "Processing Record 33 : mount isa\n",
      "Processing Record 34 : hobart\n",
      "Processing Record 35 : barabinsk\n",
      "Processing Record 36 : khatanga\n",
      "Processing Record 37 : los llanos de aridane\n",
      "Processing Record 38 : jaciara\n",
      "Processing Record 39 : faya\n",
      "Processing Record 40 : humberto de campos\n",
      "Processing Record 41 : jamestown\n",
      "Processing Record 42 : coquimbo\n",
      "Processing Record 43 : wailuku\n",
      "Processing Record 44 : basco\n",
      "Processing Record 45 : cabra\n",
      "Processing Record 46 : payo\n",
      "Processing Record 47 : trincomalee\n",
      "Processing Record 48 : mayya\n",
      "City not found. Skipping .....\n",
      "Processing Record 49 : bathsheba\n",
      "Processing Record 50 : souillac\n",
      "Processing Record 51 : new norfolk\n",
      "Processing Record 52 : puerto ayora\n",
      "Processing Record 53 : russell\n",
      "Processing Record 54 : rockhampton\n",
      "City not found. Skipping .....\n",
      "Processing Record 55 : uyemskiy\n",
      "Processing Record 56 : busselton\n",
      "Processing Record 57 : burrel\n",
      "Processing Record 58 : iqaluit\n",
      "Processing Record 59 : butaritari\n",
      "Processing Record 60 : arraial do cabo\n",
      "Processing Record 61 : codrington\n",
      "Processing Record 62 : mahebourg\n",
      "Processing Record 63 : lubango\n",
      "Processing Record 64 : georgetown\n",
      "Processing Record 65 : jiangyou\n",
      "City not found. Skipping .....\n",
      "Processing Record 66 : ahipara\n",
      "Processing Record 67 : sao lourenco\n",
      "City not found. Skipping .....\n",
      "Processing Record 68 : buraydah\n",
      "Processing Record 69 : fairbanks\n",
      "Processing Record 70 : gushikawa\n",
      "Processing Record 71 : coihaique\n",
      "Processing Record 72 : upernavik\n",
      "Processing Record 73 : bandarbeyla\n",
      "Processing Record 74 : sao jose da coroa grande\n",
      "Processing Record 75 : albany\n",
      "Processing Record 76 : banisilan\n",
      "Processing Record 77 : klaksvik\n",
      "Processing Record 78 : aranda de duero\n",
      "Processing Record 79 : shenjiamen\n",
      "Processing Record 80 : fangshan\n",
      "Processing Record 81 : hofn\n",
      "Processing Record 82 : goderich\n",
      "Processing Record 83 : sao filipe\n",
      "Processing Record 84 : novyy urengoy\n",
      "Processing Record 85 : kidal\n",
      "Processing Record 86 : hasaki\n",
      "Processing Record 87 : linhares\n",
      "Processing Record 88 : bambous virieux\n",
      "Processing Record 89 : nortelandia\n",
      "Processing Record 90 : lahij\n",
      "Processing Record 91 : christchurch\n",
      "City not found. Skipping .....\n",
      "Processing Record 92 : port alfred\n",
      "City not found. Skipping .....\n",
      "Processing Record 93 : yerbogachen\n",
      "Processing Record 94 : inhambane\n",
      "Processing Record 95 : ilulissat\n",
      "Processing Record 96 : fortuna\n",
      "Processing Record 97 : avarua\n",
      "Processing Record 98 : bluff\n",
      "Processing Record 99 : barrow\n",
      "Processing Record 100 : tiksi\n",
      "Processing Record 101 : yar-sale\n",
      "Processing Record 102 : longyearbyen\n",
      "Processing Record 103 : lorengau\n",
      "Processing Record 104 : sitka\n",
      "City not found. Skipping .....\n",
      "Processing Record 105 : faanui\n",
      "Processing Record 106 : kodiak\n",
      "Processing Record 107 : nuuk\n",
      "Processing Record 108 : pangnirtung\n",
      "Processing Record 109 : atambua\n",
      "Processing Record 110 : kruisfontein\n",
      "Processing Record 111 : turinsk\n",
      "City not found. Skipping .....\n",
      "Processing Record 112 : dire dawa\n",
      "Processing Record 113 : birao\n",
      "Processing Record 114 : atuona\n",
      "City not found. Skipping .....\n",
      "Processing Record 115 : ponta do sol\n",
      "Processing Record 116 : lebu\n",
      "Processing Record 117 : chuy\n",
      "Processing Record 118 : pueblo\n",
      "Processing Record 119 : tabou\n",
      "Processing Record 120 : healdsburg\n",
      "Processing Record 121 : san rafael\n",
      "Processing Record 122 : shitkino\n",
      "City not found. Skipping .....\n",
      "Processing Record 123 : gannan\n",
      "Processing Record 124 : walvis bay\n",
      "Processing Record 125 : crotone\n",
      "Processing Record 126 : goundam\n",
      "Processing Record 127 : hithadhoo\n",
      "Processing Record 128 : luquillo\n",
      "Processing Record 129 : taoudenni\n",
      "Processing Record 130 : chokurdakh\n",
      "Processing Record 131 : santa isabel\n",
      "Processing Record 132 : nanortalik\n",
      "City not found. Skipping .....\n",
      "Processing Record 133 : dikson\n",
      "Processing Record 134 : praia da vitoria\n",
      "Processing Record 135 : waidhofen\n",
      "Processing Record 136 : yinchuan\n",
      "Processing Record 137 : nagato\n",
      "Processing Record 138 : baruun-urt\n",
      "Processing Record 139 : lagoa\n",
      "Processing Record 140 : kalemie\n",
      "Processing Record 141 : ribeira grande\n",
      "Processing Record 142 : salalah\n",
      "Processing Record 143 : narsaq\n",
      "City not found. Skipping .....\n",
      "Processing Record 144 : qasigiannguit\n",
      "Processing Record 145 : ancud\n",
      "Processing Record 146 : pasni\n",
      "Processing Record 147 : bilma\n",
      "Processing Record 148 : ikalamavony\n",
      "Processing Record 149 : gweta\n",
      "City not found. Skipping .....\n",
      "Processing Record 150 : phu ly\n",
      "Processing Record 151 : senno\n",
      "Processing Record 152 : cabedelo\n",
      "Processing Record 153 : pangkalanbuun\n",
      "Processing Record 154 : ogdensburg\n",
      "Processing Record 155 : shimoda\n",
      "Processing Record 156 : havoysund\n",
      "City not found. Skipping .....\n",
      "Processing Record 157 : vaini\n",
      "Processing Record 158 : laurel\n",
      "Processing Record 159 : evensk\n",
      "Processing Record 160 : kousseri\n",
      "Processing Record 161 : kristiinankaupunki\n",
      "City not found. Skipping .....\n",
      "City not found. Skipping .....\n",
      "Processing Record 162 : sabang\n",
      "Processing Record 163 : lasa\n",
      "Processing Record 164 : baishishan\n",
      "Processing Record 165 : minab\n",
      "Processing Record 166 : qaqortoq\n",
      "Processing Record 167 : deming\n",
      "Processing Record 168 : port elizabeth\n",
      "Processing Record 169 : roanoke\n",
      "City not found. Skipping .....\n",
      "Processing Record 170 : vestmannaeyjar\n",
      "Processing Record 171 : abu samrah\n",
      "Processing Record 172 : tazovskiy\n",
      "Processing Record 173 : liwale\n",
      "Processing Record 174 : thompson\n",
      "Processing Record 175 : burnie\n",
      "Processing Record 176 : moranbah\n",
      "Processing Record 177 : sao joao da barra\n",
      "Processing Record 178 : ahar\n",
      "City not found. Skipping .....\n",
      "Processing Record 179 : severo-kurilsk\n",
      "City not found. Skipping .....\n",
      "Processing Record 180 : beringovskiy\n",
      "Processing Record 181 : ahuimanu\n",
      "Processing Record 182 : kavieng\n",
      "City not found. Skipping .....\n",
      "Processing Record 183 : san cristobal\n",
      "Processing Record 184 : sorland\n",
      "Processing Record 185 : amapa\n",
      "Processing Record 186 : road town\n",
      "Processing Record 187 : anzio\n",
      "Processing Record 188 : provideniya\n",
      "Processing Record 189 : axim\n",
      "Processing Record 190 : wesselsbron\n",
      "Processing Record 191 : ladario\n",
      "Processing Record 192 : tasiilaq\n",
      "Processing Record 193 : marzuq\n",
      "Processing Record 194 : nishihara\n",
      "Processing Record 195 : kimbe\n",
      "Processing Record 196 : arlit\n",
      "Processing Record 197 : blackwater\n",
      "Processing Record 198 : cabo san lucas\n",
      "Processing Record 199 : pauini\n",
      "Processing Record 200 : mattru\n",
      "Processing Record 201 : honningsvag\n",
      "Processing Record 202 : constitucion\n",
      "Processing Record 203 : airai\n",
      "Processing Record 204 : melilla\n",
      "Processing Record 205 : hualmay\n",
      "Processing Record 206 : ust-barguzin\n",
      "Processing Record 207 : tilichiki\n",
      "Processing Record 208 : mar del plata\n",
      "Processing Record 209 : sandwick\n",
      "Processing Record 210 : esperance\n",
      "Processing Record 211 : sinnamary\n",
      "Processing Record 212 : peace river\n",
      "Processing Record 213 : san patricio\n",
      "Processing Record 214 : lompoc\n",
      "Processing Record 215 : namibe\n",
      "City not found. Skipping .....\n",
      "City not found. Skipping .....\n",
      "Processing Record 216 : suntar\n",
      "Processing Record 217 : hami\n",
      "Processing Record 218 : xining\n",
      "Processing Record 219 : springbok\n",
      "Processing Record 220 : kasamwa\n",
      "Processing Record 221 : yellowknife\n",
      "Processing Record 222 : la romana\n",
      "Processing Record 223 : neiafu\n",
      "Processing Record 224 : leshukonskoye\n",
      "City not found. Skipping .....\n",
      "Processing Record 225 : mehamn\n",
      "Processing Record 226 : amazar\n"
     ]
    },
    {
     "name": "stdout",
     "output_type": "stream",
     "text": [
      "Processing Record 227 : along\n",
      "Processing Record 228 : kununurra\n",
      "Processing Record 229 : norman wells\n",
      "Processing Record 230 : traverse city\n",
      "Processing Record 231 : thinadhoo\n",
      "Processing Record 232 : belmonte\n",
      "Processing Record 233 : andapa\n",
      "Processing Record 234 : alofi\n",
      "Processing Record 235 : omsukchan\n",
      "Processing Record 236 : sovetskiy\n",
      "Processing Record 237 : carnarvon\n",
      "Processing Record 238 : winchester\n",
      "Processing Record 239 : san vicente\n",
      "City not found. Skipping .....\n",
      "Processing Record 240 : olafsvik\n",
      "Processing Record 241 : victoria\n",
      "Processing Record 242 : tura\n",
      "Processing Record 243 : hilo\n",
      "Processing Record 244 : duluth\n",
      "Processing Record 245 : san quintin\n",
      "Processing Record 246 : mount gambier\n",
      "City not found. Skipping .....\n",
      "Processing Record 247 : kotli loharan\n",
      "Processing Record 248 : shiyan\n",
      "Processing Record 249 : torbay\n",
      "Processing Record 250 : fernie\n",
      "Processing Record 251 : olga\n",
      "City not found. Skipping .....\n",
      "Processing Record 252 : zhanaozen\n",
      "Processing Record 253 : staryy nadym\n",
      "City not found. Skipping .....\n",
      "Processing Record 254 : rawson\n",
      "Processing Record 255 : loikaw\n",
      "Processing Record 256 : luderitz\n",
      "Processing Record 257 : abrau-dyurso\n",
      "Processing Record 258 : honiara\n",
      "Processing Record 259 : killybegs\n",
      "Processing Record 260 : glendive\n",
      "Processing Record 261 : conceicao do mato dentro\n",
      "Processing Record 262 : avera\n",
      "Processing Record 263 : maldonado\n",
      "Processing Record 264 : hornslet\n",
      "Processing Record 265 : prince rupert\n",
      "Processing Record 266 : caucaia\n",
      "Processing Record 267 : launceston\n",
      "Processing Record 268 : carutapera\n",
      "Processing Record 269 : srednekolymsk\n",
      "Processing Record 270 : xinzhou\n",
      "Processing Record 271 : santa fe\n",
      "Processing Record 272 : bengkulu\n",
      "Processing Record 273 : acapulco\n",
      "Processing Record 274 : monrovia\n",
      "Processing Record 275 : goba\n",
      "City not found. Skipping .....\n",
      "Processing Record 276 : touros\n",
      "Processing Record 277 : nizhyn\n",
      "Processing Record 278 : henties bay\n",
      "Processing Record 279 : chipinge\n",
      "Processing Record 280 : ostrovnoy\n",
      "Processing Record 281 : seydisehir\n",
      "Processing Record 282 : dakar\n",
      "Processing Record 283 : makakilo city\n",
      "City not found. Skipping .....\n",
      "Processing Record 284 : oktyabrskoye\n",
      "Processing Record 285 : vicuna\n",
      "Processing Record 286 : luanda\n",
      "Processing Record 287 : udachnyy\n",
      "Processing Record 288 : guerrero negro\n",
      "Processing Record 289 : vankleek hill\n",
      "Processing Record 290 : saint-denis\n",
      "Processing Record 291 : mangrol\n",
      "Processing Record 292 : sangar\n",
      "Processing Record 293 : uinskoye\n",
      "Processing Record 294 : port hardy\n",
      "Processing Record 295 : lahan\n",
      "Processing Record 296 : saint-pierre\n",
      "Processing Record 297 : fort nelson\n",
      "Processing Record 298 : moerai\n",
      "Processing Record 299 : nyurba\n",
      "Processing Record 300 : alcudia\n",
      "Processing Record 301 : brae\n",
      "Processing Record 302 : takoradi\n",
      "Processing Record 303 : korla\n",
      "Processing Record 304 : isla mujeres\n",
      "Processing Record 305 : estevan\n",
      "Processing Record 306 : jalu\n",
      "Processing Record 307 : belogorsk\n",
      "Processing Record 308 : hatillo\n",
      "Processing Record 309 : sao sepe\n",
      "Processing Record 310 : omboue\n",
      "Processing Record 311 : laukaa\n",
      "Processing Record 312 : coos bay\n",
      "Processing Record 313 : severobaykalsk\n",
      "Processing Record 314 : mutis\n",
      "Processing Record 315 : saint-francois\n",
      "Processing Record 316 : lovozero\n",
      "Processing Record 317 : severodvinsk\n",
      "Processing Record 318 : am timan\n",
      "Processing Record 319 : cidreira\n",
      "Processing Record 320 : okha\n",
      "Processing Record 321 : tres arroyos\n",
      "Processing Record 322 : novikovo\n",
      "Processing Record 323 : myaundzha\n",
      "Processing Record 324 : mogok\n",
      "Processing Record 325 : domoni\n",
      "Processing Record 326 : hamilton\n",
      "Processing Record 327 : uelzen\n",
      "Processing Record 328 : eldorado\n",
      "Processing Record 329 : indian head\n",
      "Processing Record 330 : williston\n",
      "Processing Record 331 : talcher\n",
      "Processing Record 332 : weligama\n",
      "Processing Record 333 : quirinopolis\n",
      "Processing Record 334 : leningradskiy\n",
      "City not found. Skipping .....\n",
      "Processing Record 335 : katangli\n",
      "Processing Record 336 : aklavik\n",
      "Processing Record 337 : rocha\n",
      "Processing Record 338 : prizren\n",
      "Processing Record 339 : nicoya\n",
      "Processing Record 340 : azle\n",
      "Processing Record 341 : asau\n",
      "Processing Record 342 : hobyo\n",
      "Processing Record 343 : pangai\n",
      "Processing Record 344 : geraldton\n",
      "Processing Record 345 : vilhena\n",
      "City not found. Skipping .....\n",
      "City not found. Skipping .....\n",
      "Processing Record 346 : mbandaka\n",
      "Processing Record 347 : pemangkat\n",
      "Processing Record 348 : saint austell\n",
      "Processing Record 349 : egvekinot\n",
      "Processing Record 350 : maple creek\n",
      "Processing Record 351 : sola\n",
      "Processing Record 352 : qui nhon\n",
      "Processing Record 353 : chadan\n",
      "Processing Record 354 : bhindar\n",
      "Processing Record 355 : sistranda\n",
      "Processing Record 356 : pervomayskiy\n",
      "Processing Record 357 : turan\n",
      "Processing Record 358 : antofagasta\n",
      "Processing Record 359 : luancheng\n",
      "Processing Record 360 : nava\n",
      "Processing Record 361 : turbat\n",
      "Processing Record 362 : ihiala\n",
      "Processing Record 363 : nalut\n",
      "City not found. Skipping .....\n",
      "Processing Record 364 : pangody\n",
      "Processing Record 365 : alexandria\n",
      "Processing Record 366 : oum hadjer\n",
      "City not found. Skipping .....\n",
      "Processing Record 367 : orizona\n",
      "Processing Record 368 : muros\n",
      "Processing Record 369 : teguldet\n",
      "Processing Record 370 : antalaha\n",
      "Processing Record 371 : myre\n",
      "City not found. Skipping .....\n",
      "Processing Record 372 : gat\n",
      "Processing Record 373 : dauphin\n",
      "Processing Record 374 : guarapari\n",
      "Processing Record 375 : saint-louis\n",
      "Processing Record 376 : itainopolis\n",
      "Processing Record 377 : vuktyl\n",
      "Processing Record 378 : maykor\n",
      "Processing Record 379 : grindavik\n",
      "Processing Record 380 : masvingo\n",
      "Processing Record 381 : komsomolskiy\n",
      "Processing Record 382 : tautira\n",
      "Processing Record 383 : yantal\n",
      "Processing Record 384 : xuddur\n",
      "Processing Record 385 : mashhad\n",
      "Processing Record 386 : katherine\n",
      "Processing Record 387 : gravdal\n",
      "Processing Record 388 : dodge city\n",
      "Processing Record 389 : kamenka\n",
      "Processing Record 390 : kavaratti\n",
      "City not found. Skipping .....\n",
      "City not found. Skipping .....\n",
      "Processing Record 391 : hinton\n",
      "Processing Record 392 : bambanglipuro\n",
      "Processing Record 393 : sibi\n",
      "Processing Record 394 : tari\n",
      "Processing Record 395 : tucuma\n",
      "Processing Record 396 : ixtapa\n",
      "Processing Record 397 : buchanan\n",
      "Processing Record 398 : san jeronimo\n",
      "City not found. Skipping .....\n",
      "Processing Record 399 : corowa\n",
      "Processing Record 400 : adrar\n",
      "Processing Record 401 : palana\n",
      "Processing Record 402 : yaounde\n",
      "Processing Record 403 : maumere\n",
      "Processing Record 404 : kosh-agach\n",
      "Processing Record 405 : namatanai\n",
      "Processing Record 406 : katsuura\n",
      "Processing Record 407 : sambava\n",
      "Processing Record 408 : payakumbuh\n",
      "Processing Record 409 : nikolskoye\n",
      "Processing Record 410 : talnakh\n",
      "Processing Record 411 : marevo\n",
      "Processing Record 412 : hwange\n",
      "Processing Record 413 : ballina\n",
      "Processing Record 414 : port lincoln\n",
      "Processing Record 415 : cuenca\n",
      "Processing Record 416 : berlevag\n",
      "Processing Record 417 : la ronge\n",
      "Processing Record 418 : college\n",
      "Processing Record 419 : camana\n",
      "Processing Record 420 : panguipulli\n",
      "Processing Record 421 : huadian\n",
      "Processing Record 422 : manzhouli\n",
      "City not found. Skipping .....\n",
      "Processing Record 423 : broome\n",
      "Processing Record 424 : te anau\n",
      "Processing Record 425 : searcy\n",
      "Processing Record 426 : krasnoselkup\n",
      "Processing Record 427 : cascais\n",
      "Processing Record 428 : martapura\n",
      "Processing Record 429 : negru voda\n",
      "Processing Record 430 : zhigansk\n",
      "Processing Record 431 : saint-georges\n",
      "Processing Record 432 : andenes\n",
      "Processing Record 433 : blagoyevo\n",
      "Processing Record 434 : praxedis guerrero\n",
      "Processing Record 435 : tobe\n",
      "Processing Record 436 : marsaxlokk\n",
      "Processing Record 437 : chapleau\n",
      "Processing Record 438 : teahupoo\n",
      "Processing Record 439 : vardo\n",
      "Processing Record 440 : santa cruz\n",
      "Processing Record 441 : sunderland\n",
      "Processing Record 442 : imeni poliny osipenko\n",
      "Processing Record 443 : caravelas\n",
      "Processing Record 444 : soe\n",
      "Processing Record 445 : talakan\n",
      "Processing Record 446 : krasnaya gora\n",
      "Processing Record 447 : arman\n",
      "Processing Record 448 : benjamin hill\n",
      "Processing Record 449 : butembo\n",
      "Processing Record 450 : mareeba\n",
      "Processing Record 451 : mahibadhoo\n",
      "Processing Record 452 : dashitou\n",
      "Processing Record 453 : manta\n",
      "Processing Record 454 : adelaide\n",
      "Processing Record 455 : huarmey\n",
      "Processing Record 456 : sarankhola\n",
      "Processing Record 457 : sibolga\n",
      "Processing Record 458 : westerly\n",
      "Processing Record 459 : placido de castro\n",
      "City not found. Skipping .....\n"
     ]
    },
    {
     "name": "stdout",
     "output_type": "stream",
     "text": [
      "Processing Record 460 : kargasok\n",
      "City not found. Skipping .....\n",
      "Processing Record 461 : howard springs\n",
      "Processing Record 462 : calabozo\n",
      "City not found. Skipping .....\n",
      "City not found. Skipping .....\n",
      "City not found. Skipping .....\n",
      "Processing Record 463 : whitehorse\n",
      "Processing Record 464 : gladstone\n",
      "Processing Record 465 : bako\n",
      "Processing Record 466 : kunashak\n",
      "Processing Record 467 : dali\n",
      "Processing Record 468 : merzifon\n",
      "Processing Record 469 : narathiwat\n",
      "Processing Record 470 : fuente de oro\n",
      "Processing Record 471 : dingle\n",
      "Processing Record 472 : constantine\n",
      "Processing Record 473 : saskylakh\n",
      "Processing Record 474 : ulladulla\n",
      "Processing Record 475 : rochegda\n",
      "Processing Record 476 : minsk\n",
      "Processing Record 477 : cururupu\n",
      "Processing Record 478 : gimli\n",
      "Processing Record 479 : bukowno\n",
      "Processing Record 480 : gloucester\n",
      "Processing Record 481 : timaru\n",
      "Processing Record 482 : tochigi\n",
      "Processing Record 483 : rondonopolis\n",
      "Processing Record 484 : hanmer springs\n",
      "Processing Record 485 : bardiyah\n",
      "Processing Record 486 : isangel\n",
      "Processing Record 487 : karachi\n",
      "Processing Record 488 : las lomas\n",
      "Processing Record 489 : emerald\n",
      "Processing Record 490 : bonavista\n",
      "Processing Record 491 : siocon\n",
      "Processing Record 492 : sonneberg\n",
      "Processing Record 493 : port blair\n",
      "Processing Record 494 : hay river\n",
      "Processing Record 495 : angatuba\n",
      "Processing Record 496 : halifax\n",
      "Processing Record 497 : benjamin constant\n",
      "City not found. Skipping .....\n",
      "Processing Record 498 : luzhou\n",
      "Processing Record 499 : indiana\n",
      "Processing Record 500 : dunstable\n",
      "Processing Record 501 : puri\n",
      "Processing Record 502 : aktash\n",
      "Processing Record 503 : el tigre\n",
      "Processing Record 504 : vila\n",
      "Processing Record 505 : yarmouth\n",
      "Processing Record 506 : aswan\n",
      "Processing Record 507 : tagusao\n",
      "Processing Record 508 : ambilobe\n",
      "Processing Record 509 : pandan\n",
      "Processing Record 510 : awjilah\n",
      "Processing Record 511 : porangatu\n",
      "Processing Record 512 : nouna\n",
      "Processing Record 513 : mutare\n",
      "Processing Record 514 : lata\n",
      "Processing Record 515 : pacific grove\n",
      "Processing Record 516 : santa lucia\n",
      "Processing Record 517 : nara\n",
      "City not found. Skipping .....\n",
      "Processing Record 518 : oranjemund\n",
      "Processing Record 519 : puerto madryn\n",
      "Processing Record 520 : totness\n",
      "Processing Record 521 : ales\n",
      "Processing Record 522 : kishtwar\n",
      "Processing Record 523 : belaya gora\n",
      "Processing Record 524 : ternova\n",
      "Processing Record 525 : san javier\n",
      "Processing Record 526 : steamboat springs\n",
      "Processing Record 527 : devils lake\n",
      "Processing Record 528 : puerto baquerizo moreno\n",
      "Processing Record 529 : amuntai\n",
      "Processing Record 530 : ishigaki\n",
      "Processing Record 531 : coria\n",
      "Processing Record 532 : chicama\n",
      "Processing Record 533 : biu\n",
      "City not found. Skipping .....\n",
      "Processing Record 534 : lhokseumawe\n",
      "Processing Record 535 : ballarat\n",
      "Processing Record 536 : strezhevoy\n",
      "Processing Record 537 : viet tri\n",
      "Processing Record 538 : sergeyevka\n",
      "Processing Record 539 : gurun\n",
      "Processing Record 540 : guanica\n",
      "Processing Record 541 : sorong\n",
      "Processing Record 542 : kazachinskoye\n",
      "Processing Record 543 : ketrzyn\n",
      "City not found. Skipping .....\n",
      "City not found. Skipping .....\n",
      "Processing Record 544 : port-gentil\n",
      "Processing Record 545 : sisimiut\n",
      "Processing Record 546 : taksimo\n",
      "City not found. Skipping .....\n",
      "Processing Record 547 : martinsville\n",
      "Processing Record 548 : cap malheureux\n",
      "City not found. Skipping .....\n",
      "Processing Record 549 : pittsburg\n",
      "Processing Record 550 : nemuro\n",
      "Processing Record 551 : dunedin\n",
      "Processing Record 552 : narino\n",
      "Processing Record 553 : ancona\n",
      "Processing Record 554 : iralaya\n",
      "Processing Record 555 : calama\n",
      "Processing Record 556 : khandyga\n",
      "Processing Record 557 : sydney\n",
      "Processing Record 558 : luis correia\n",
      "City not found. Skipping .....\n",
      "Processing Record 559 : zhuhai\n",
      "Processing Record 560 : nome\n",
      "Processing Record 561 : bilibino\n",
      "Processing Record 562 : tateyama\n",
      "Processing Record 563 : fare\n",
      "Processing Record 564 : homer\n",
      "Processing Record 565 : dongsheng\n",
      "Processing Record 566 : pryvillya\n",
      "Processing Record 567 : paraiso\n"
     ]
    }
   ],
   "source": [
    "# Define Variables\n",
    "\n",
    "city_name_list = []\n",
    "city_id_list = []\n",
    "cloudiness_list = []\n",
    "date_list = []\n",
    "country_list = []\n",
    "date_list = []\n",
    "humidity_list = []\n",
    "lat_list = []\n",
    "lon_list = []\n",
    "date_temp_list = []\n",
    "max_temp_list = []\n",
    "wind_speed_list = []\n",
    "\n",
    "index_counter = 0\n",
    "\n",
    "url = \"http://api.openweathermap.org/data/2.5/weather?\"\n",
    "units = \"metric\"\n",
    "\n",
    "#query_url\n",
    "query_url = f\"{url}appid={weather_api_key}&units={units}&q=\"\n",
    "\n",
    "\n",
    "for index, city in enumerate(cities, start = 1):\n",
    "    try:\n",
    "        response = requests.get(query_url + city).json()\n",
    "        \n",
    "        \n",
    "        \n",
    "        city_name_list.append(response[\"name\"])\n",
    "        city_id_list.append(response[\"id\"])\n",
    "        cloudiness_list.append(response[\"clouds\"][\"all\"])\n",
    "        country_list.append(response[\"sys\"][\"country\"])\n",
    "        date_list.append(response[\"dt\"])\n",
    "        humidity_list.append(response[\"main\"][\"humidity\"])\n",
    "        lat_list.append(response[\"coord\"][\"lat\"])\n",
    "        lon_list.append(response[\"coord\"][\"lon\"])\n",
    "        date_temp_list.append(response['main']['temp'])\n",
    "        max_temp_list.append(response['main']['temp_max'])\n",
    "        wind_speed_list.append(response[\"wind\"][\"speed\"])\n",
    "        \n",
    "        index_counter = index_counter + 1\n",
    "        \n",
    "        print(f\"Processing Record {index_counter} : {city}\")\n",
    "        \n",
    "    except(KeyError, IndexError):\n",
    "            \n",
    "        print(\"City not found. Skipping .....\")\n",
    "            \n",
    "        pass\n",
    "            \n",
    "        \n",
    "        "
   ]
  },
  {
   "cell_type": "markdown",
   "metadata": {},
   "source": [
    "### Convert Raw Data to DataFrame\n",
    "* Export the city data into a .csv.\n",
    "* Display the DataFrame"
   ]
  },
  {
   "cell_type": "code",
   "execution_count": 12,
   "metadata": {},
   "outputs": [
    {
     "data": {
      "text/html": [
       "<div>\n",
       "<style scoped>\n",
       "    .dataframe tbody tr th:only-of-type {\n",
       "        vertical-align: middle;\n",
       "    }\n",
       "\n",
       "    .dataframe tbody tr th {\n",
       "        vertical-align: top;\n",
       "    }\n",
       "\n",
       "    .dataframe thead th {\n",
       "        text-align: right;\n",
       "    }\n",
       "</style>\n",
       "<table border=\"1\" class=\"dataframe\">\n",
       "  <thead>\n",
       "    <tr style=\"text-align: right;\">\n",
       "      <th></th>\n",
       "      <th>city</th>\n",
       "      <th>City ID</th>\n",
       "      <th>Country</th>\n",
       "      <th>Latitude</th>\n",
       "      <th>Longitude</th>\n",
       "      <th>Date</th>\n",
       "      <th>Cloudiness</th>\n",
       "      <th>Humidity</th>\n",
       "      <th>Temperature at Date</th>\n",
       "      <th>Max Temp to Date</th>\n",
       "      <th>Wind Speed</th>\n",
       "    </tr>\n",
       "  </thead>\n",
       "  <tbody>\n",
       "    <tr>\n",
       "      <th>0</th>\n",
       "      <td>San Miguel de Tucumán</td>\n",
       "      <td>3836873</td>\n",
       "      <td>AR</td>\n",
       "      <td>-26.82</td>\n",
       "      <td>-65.22</td>\n",
       "      <td>1603522973</td>\n",
       "      <td>90</td>\n",
       "      <td>73</td>\n",
       "      <td>24.00</td>\n",
       "      <td>24.00</td>\n",
       "      <td>1.00</td>\n",
       "    </tr>\n",
       "    <tr>\n",
       "      <th>1</th>\n",
       "      <td>Haines Junction</td>\n",
       "      <td>5969025</td>\n",
       "      <td>CA</td>\n",
       "      <td>60.75</td>\n",
       "      <td>-137.51</td>\n",
       "      <td>1603522974</td>\n",
       "      <td>100</td>\n",
       "      <td>83</td>\n",
       "      <td>-6.48</td>\n",
       "      <td>-6.48</td>\n",
       "      <td>0.61</td>\n",
       "    </tr>\n",
       "    <tr>\n",
       "      <th>2</th>\n",
       "      <td>Mataura</td>\n",
       "      <td>6201424</td>\n",
       "      <td>NZ</td>\n",
       "      <td>-46.19</td>\n",
       "      <td>168.86</td>\n",
       "      <td>1603522974</td>\n",
       "      <td>100</td>\n",
       "      <td>55</td>\n",
       "      <td>18.89</td>\n",
       "      <td>18.89</td>\n",
       "      <td>4.47</td>\n",
       "    </tr>\n",
       "    <tr>\n",
       "      <th>3</th>\n",
       "      <td>Ushuaia</td>\n",
       "      <td>3833367</td>\n",
       "      <td>AR</td>\n",
       "      <td>-54.80</td>\n",
       "      <td>-68.30</td>\n",
       "      <td>1603522974</td>\n",
       "      <td>75</td>\n",
       "      <td>80</td>\n",
       "      <td>4.00</td>\n",
       "      <td>4.00</td>\n",
       "      <td>2.10</td>\n",
       "    </tr>\n",
       "    <tr>\n",
       "      <th>4</th>\n",
       "      <td>Bredasdorp</td>\n",
       "      <td>1015776</td>\n",
       "      <td>ZA</td>\n",
       "      <td>-34.53</td>\n",
       "      <td>20.04</td>\n",
       "      <td>1603522974</td>\n",
       "      <td>99</td>\n",
       "      <td>88</td>\n",
       "      <td>20.00</td>\n",
       "      <td>20.00</td>\n",
       "      <td>2.10</td>\n",
       "    </tr>\n",
       "    <tr>\n",
       "      <th>...</th>\n",
       "      <td>...</td>\n",
       "      <td>...</td>\n",
       "      <td>...</td>\n",
       "      <td>...</td>\n",
       "      <td>...</td>\n",
       "      <td>...</td>\n",
       "      <td>...</td>\n",
       "      <td>...</td>\n",
       "      <td>...</td>\n",
       "      <td>...</td>\n",
       "      <td>...</td>\n",
       "    </tr>\n",
       "    <tr>\n",
       "      <th>562</th>\n",
       "      <td>Fare</td>\n",
       "      <td>4034496</td>\n",
       "      <td>PF</td>\n",
       "      <td>-16.70</td>\n",
       "      <td>-151.02</td>\n",
       "      <td>1603523112</td>\n",
       "      <td>100</td>\n",
       "      <td>68</td>\n",
       "      <td>26.74</td>\n",
       "      <td>26.74</td>\n",
       "      <td>2.27</td>\n",
       "    </tr>\n",
       "    <tr>\n",
       "      <th>563</th>\n",
       "      <td>Homer</td>\n",
       "      <td>5864145</td>\n",
       "      <td>US</td>\n",
       "      <td>59.64</td>\n",
       "      <td>-151.55</td>\n",
       "      <td>1603523113</td>\n",
       "      <td>90</td>\n",
       "      <td>93</td>\n",
       "      <td>5.00</td>\n",
       "      <td>5.00</td>\n",
       "      <td>3.26</td>\n",
       "    </tr>\n",
       "    <tr>\n",
       "      <th>564</th>\n",
       "      <td>Dongsheng</td>\n",
       "      <td>1812256</td>\n",
       "      <td>CN</td>\n",
       "      <td>39.82</td>\n",
       "      <td>109.98</td>\n",
       "      <td>1603523113</td>\n",
       "      <td>55</td>\n",
       "      <td>36</td>\n",
       "      <td>13.49</td>\n",
       "      <td>13.49</td>\n",
       "      <td>6.05</td>\n",
       "    </tr>\n",
       "    <tr>\n",
       "      <th>565</th>\n",
       "      <td>Pryvillya</td>\n",
       "      <td>696218</td>\n",
       "      <td>UA</td>\n",
       "      <td>49.02</td>\n",
       "      <td>38.30</td>\n",
       "      <td>1603523113</td>\n",
       "      <td>100</td>\n",
       "      <td>83</td>\n",
       "      <td>14.39</td>\n",
       "      <td>14.39</td>\n",
       "      <td>4.29</td>\n",
       "    </tr>\n",
       "    <tr>\n",
       "      <th>566</th>\n",
       "      <td>Paraíso</td>\n",
       "      <td>3622547</td>\n",
       "      <td>CR</td>\n",
       "      <td>9.84</td>\n",
       "      <td>-83.87</td>\n",
       "      <td>1603522823</td>\n",
       "      <td>75</td>\n",
       "      <td>100</td>\n",
       "      <td>19.73</td>\n",
       "      <td>21.00</td>\n",
       "      <td>1.50</td>\n",
       "    </tr>\n",
       "  </tbody>\n",
       "</table>\n",
       "<p>567 rows × 11 columns</p>\n",
       "</div>"
      ],
      "text/plain": [
       "                      city  City ID Country  Latitude  Longitude        Date  \\\n",
       "0    San Miguel de Tucumán  3836873      AR    -26.82     -65.22  1603522973   \n",
       "1          Haines Junction  5969025      CA     60.75    -137.51  1603522974   \n",
       "2                  Mataura  6201424      NZ    -46.19     168.86  1603522974   \n",
       "3                  Ushuaia  3833367      AR    -54.80     -68.30  1603522974   \n",
       "4               Bredasdorp  1015776      ZA    -34.53      20.04  1603522974   \n",
       "..                     ...      ...     ...       ...        ...         ...   \n",
       "562                   Fare  4034496      PF    -16.70    -151.02  1603523112   \n",
       "563                  Homer  5864145      US     59.64    -151.55  1603523113   \n",
       "564              Dongsheng  1812256      CN     39.82     109.98  1603523113   \n",
       "565              Pryvillya   696218      UA     49.02      38.30  1603523113   \n",
       "566                Paraíso  3622547      CR      9.84     -83.87  1603522823   \n",
       "\n",
       "     Cloudiness  Humidity  Temperature at Date  Max Temp to Date  Wind Speed  \n",
       "0            90        73                24.00             24.00        1.00  \n",
       "1           100        83                -6.48             -6.48        0.61  \n",
       "2           100        55                18.89             18.89        4.47  \n",
       "3            75        80                 4.00              4.00        2.10  \n",
       "4            99        88                20.00             20.00        2.10  \n",
       "..          ...       ...                  ...               ...         ...  \n",
       "562         100        68                26.74             26.74        2.27  \n",
       "563          90        93                 5.00              5.00        3.26  \n",
       "564          55        36                13.49             13.49        6.05  \n",
       "565         100        83                14.39             14.39        4.29  \n",
       "566          75       100                19.73             21.00        1.50  \n",
       "\n",
       "[567 rows x 11 columns]"
      ]
     },
     "execution_count": 12,
     "metadata": {},
     "output_type": "execute_result"
    }
   ],
   "source": [
    "weather_check = pd.DataFrame({\"city\" : city_name_list, \"City ID\" : city_id_list, \"Country\" : country_list, \"Latitude\" : lat_list,\n",
    "                             \"Longitude\" : lon_list, \"Date\" : date_list, \"Cloudiness\" : cloudiness_list, \"Humidity\" : humidity_list,\n",
    "                             \"Temperature at Date\" : date_temp_list, \"Max Temp to Date\" : max_temp_list, \"Wind Speed\" : wind_speed_list})\n",
    "\n",
    "weather_check"
   ]
  },
  {
   "cell_type": "code",
   "execution_count": null,
   "metadata": {},
   "outputs": [],
   "source": []
  },
  {
   "cell_type": "markdown",
   "metadata": {},
   "source": [
    "## Inspect the data and remove the cities where the humidity > 100%.\n",
    "----\n",
    "Skip this step if there are no cities that have humidity > 100%. "
   ]
  },
  {
   "cell_type": "code",
   "execution_count": 13,
   "metadata": {},
   "outputs": [
    {
     "data": {
      "text/html": [
       "<div>\n",
       "<style scoped>\n",
       "    .dataframe tbody tr th:only-of-type {\n",
       "        vertical-align: middle;\n",
       "    }\n",
       "\n",
       "    .dataframe tbody tr th {\n",
       "        vertical-align: top;\n",
       "    }\n",
       "\n",
       "    .dataframe thead th {\n",
       "        text-align: right;\n",
       "    }\n",
       "</style>\n",
       "<table border=\"1\" class=\"dataframe\">\n",
       "  <thead>\n",
       "    <tr style=\"text-align: right;\">\n",
       "      <th></th>\n",
       "      <th>city</th>\n",
       "      <th>City ID</th>\n",
       "      <th>Country</th>\n",
       "      <th>Latitude</th>\n",
       "      <th>Longitude</th>\n",
       "      <th>Date</th>\n",
       "      <th>Cloudiness</th>\n",
       "      <th>Humidity</th>\n",
       "      <th>Temperature at Date</th>\n",
       "      <th>Max Temp to Date</th>\n",
       "      <th>Wind Speed</th>\n",
       "    </tr>\n",
       "  </thead>\n",
       "  <tbody>\n",
       "    <tr>\n",
       "      <th>0</th>\n",
       "      <td>San Miguel de Tucumán</td>\n",
       "      <td>3836873</td>\n",
       "      <td>AR</td>\n",
       "      <td>-26.82</td>\n",
       "      <td>-65.22</td>\n",
       "      <td>1603522973</td>\n",
       "      <td>90</td>\n",
       "      <td>73</td>\n",
       "      <td>24.00</td>\n",
       "      <td>24.00</td>\n",
       "      <td>1.00</td>\n",
       "    </tr>\n",
       "    <tr>\n",
       "      <th>1</th>\n",
       "      <td>Haines Junction</td>\n",
       "      <td>5969025</td>\n",
       "      <td>CA</td>\n",
       "      <td>60.75</td>\n",
       "      <td>-137.51</td>\n",
       "      <td>1603522974</td>\n",
       "      <td>100</td>\n",
       "      <td>83</td>\n",
       "      <td>-6.48</td>\n",
       "      <td>-6.48</td>\n",
       "      <td>0.61</td>\n",
       "    </tr>\n",
       "    <tr>\n",
       "      <th>2</th>\n",
       "      <td>Mataura</td>\n",
       "      <td>6201424</td>\n",
       "      <td>NZ</td>\n",
       "      <td>-46.19</td>\n",
       "      <td>168.86</td>\n",
       "      <td>1603522974</td>\n",
       "      <td>100</td>\n",
       "      <td>55</td>\n",
       "      <td>18.89</td>\n",
       "      <td>18.89</td>\n",
       "      <td>4.47</td>\n",
       "    </tr>\n",
       "    <tr>\n",
       "      <th>3</th>\n",
       "      <td>Ushuaia</td>\n",
       "      <td>3833367</td>\n",
       "      <td>AR</td>\n",
       "      <td>-54.80</td>\n",
       "      <td>-68.30</td>\n",
       "      <td>1603522974</td>\n",
       "      <td>75</td>\n",
       "      <td>80</td>\n",
       "      <td>4.00</td>\n",
       "      <td>4.00</td>\n",
       "      <td>2.10</td>\n",
       "    </tr>\n",
       "    <tr>\n",
       "      <th>4</th>\n",
       "      <td>Bredasdorp</td>\n",
       "      <td>1015776</td>\n",
       "      <td>ZA</td>\n",
       "      <td>-34.53</td>\n",
       "      <td>20.04</td>\n",
       "      <td>1603522974</td>\n",
       "      <td>99</td>\n",
       "      <td>88</td>\n",
       "      <td>20.00</td>\n",
       "      <td>20.00</td>\n",
       "      <td>2.10</td>\n",
       "    </tr>\n",
       "    <tr>\n",
       "      <th>...</th>\n",
       "      <td>...</td>\n",
       "      <td>...</td>\n",
       "      <td>...</td>\n",
       "      <td>...</td>\n",
       "      <td>...</td>\n",
       "      <td>...</td>\n",
       "      <td>...</td>\n",
       "      <td>...</td>\n",
       "      <td>...</td>\n",
       "      <td>...</td>\n",
       "      <td>...</td>\n",
       "    </tr>\n",
       "    <tr>\n",
       "      <th>562</th>\n",
       "      <td>Fare</td>\n",
       "      <td>4034496</td>\n",
       "      <td>PF</td>\n",
       "      <td>-16.70</td>\n",
       "      <td>-151.02</td>\n",
       "      <td>1603523112</td>\n",
       "      <td>100</td>\n",
       "      <td>68</td>\n",
       "      <td>26.74</td>\n",
       "      <td>26.74</td>\n",
       "      <td>2.27</td>\n",
       "    </tr>\n",
       "    <tr>\n",
       "      <th>563</th>\n",
       "      <td>Homer</td>\n",
       "      <td>5864145</td>\n",
       "      <td>US</td>\n",
       "      <td>59.64</td>\n",
       "      <td>-151.55</td>\n",
       "      <td>1603523113</td>\n",
       "      <td>90</td>\n",
       "      <td>93</td>\n",
       "      <td>5.00</td>\n",
       "      <td>5.00</td>\n",
       "      <td>3.26</td>\n",
       "    </tr>\n",
       "    <tr>\n",
       "      <th>564</th>\n",
       "      <td>Dongsheng</td>\n",
       "      <td>1812256</td>\n",
       "      <td>CN</td>\n",
       "      <td>39.82</td>\n",
       "      <td>109.98</td>\n",
       "      <td>1603523113</td>\n",
       "      <td>55</td>\n",
       "      <td>36</td>\n",
       "      <td>13.49</td>\n",
       "      <td>13.49</td>\n",
       "      <td>6.05</td>\n",
       "    </tr>\n",
       "    <tr>\n",
       "      <th>565</th>\n",
       "      <td>Pryvillya</td>\n",
       "      <td>696218</td>\n",
       "      <td>UA</td>\n",
       "      <td>49.02</td>\n",
       "      <td>38.30</td>\n",
       "      <td>1603523113</td>\n",
       "      <td>100</td>\n",
       "      <td>83</td>\n",
       "      <td>14.39</td>\n",
       "      <td>14.39</td>\n",
       "      <td>4.29</td>\n",
       "    </tr>\n",
       "    <tr>\n",
       "      <th>566</th>\n",
       "      <td>Paraíso</td>\n",
       "      <td>3622547</td>\n",
       "      <td>CR</td>\n",
       "      <td>9.84</td>\n",
       "      <td>-83.87</td>\n",
       "      <td>1603522823</td>\n",
       "      <td>75</td>\n",
       "      <td>100</td>\n",
       "      <td>19.73</td>\n",
       "      <td>21.00</td>\n",
       "      <td>1.50</td>\n",
       "    </tr>\n",
       "  </tbody>\n",
       "</table>\n",
       "<p>567 rows × 11 columns</p>\n",
       "</div>"
      ],
      "text/plain": [
       "                      city  City ID Country  Latitude  Longitude        Date  \\\n",
       "0    San Miguel de Tucumán  3836873      AR    -26.82     -65.22  1603522973   \n",
       "1          Haines Junction  5969025      CA     60.75    -137.51  1603522974   \n",
       "2                  Mataura  6201424      NZ    -46.19     168.86  1603522974   \n",
       "3                  Ushuaia  3833367      AR    -54.80     -68.30  1603522974   \n",
       "4               Bredasdorp  1015776      ZA    -34.53      20.04  1603522974   \n",
       "..                     ...      ...     ...       ...        ...         ...   \n",
       "562                   Fare  4034496      PF    -16.70    -151.02  1603523112   \n",
       "563                  Homer  5864145      US     59.64    -151.55  1603523113   \n",
       "564              Dongsheng  1812256      CN     39.82     109.98  1603523113   \n",
       "565              Pryvillya   696218      UA     49.02      38.30  1603523113   \n",
       "566                Paraíso  3622547      CR      9.84     -83.87  1603522823   \n",
       "\n",
       "     Cloudiness  Humidity  Temperature at Date  Max Temp to Date  Wind Speed  \n",
       "0            90        73                24.00             24.00        1.00  \n",
       "1           100        83                -6.48             -6.48        0.61  \n",
       "2           100        55                18.89             18.89        4.47  \n",
       "3            75        80                 4.00              4.00        2.10  \n",
       "4            99        88                20.00             20.00        2.10  \n",
       "..          ...       ...                  ...               ...         ...  \n",
       "562         100        68                26.74             26.74        2.27  \n",
       "563          90        93                 5.00              5.00        3.26  \n",
       "564          55        36                13.49             13.49        6.05  \n",
       "565         100        83                14.39             14.39        4.29  \n",
       "566          75       100                19.73             21.00        1.50  \n",
       "\n",
       "[567 rows x 11 columns]"
      ]
     },
     "execution_count": 13,
     "metadata": {},
     "output_type": "execute_result"
    }
   ],
   "source": [
    "humidity_less_than_100 = weather_check.loc[(weather_check[\"Humidity\"] <= 100)]\n",
    "\n",
    "humidity_less_than_100"
   ]
  },
  {
   "cell_type": "code",
   "execution_count": 14,
   "metadata": {},
   "outputs": [
    {
     "data": {
      "text/html": [
       "<div>\n",
       "<style scoped>\n",
       "    .dataframe tbody tr th:only-of-type {\n",
       "        vertical-align: middle;\n",
       "    }\n",
       "\n",
       "    .dataframe tbody tr th {\n",
       "        vertical-align: top;\n",
       "    }\n",
       "\n",
       "    .dataframe thead th {\n",
       "        text-align: right;\n",
       "    }\n",
       "</style>\n",
       "<table border=\"1\" class=\"dataframe\">\n",
       "  <thead>\n",
       "    <tr style=\"text-align: right;\">\n",
       "      <th></th>\n",
       "      <th>city</th>\n",
       "      <th>City ID</th>\n",
       "      <th>Country</th>\n",
       "      <th>Latitude</th>\n",
       "      <th>Longitude</th>\n",
       "      <th>Date</th>\n",
       "      <th>Cloudiness</th>\n",
       "      <th>Humidity</th>\n",
       "      <th>Temperature at Date</th>\n",
       "      <th>Max Temp to Date</th>\n",
       "      <th>Wind Speed</th>\n",
       "    </tr>\n",
       "  </thead>\n",
       "  <tbody>\n",
       "  </tbody>\n",
       "</table>\n",
       "</div>"
      ],
      "text/plain": [
       "Empty DataFrame\n",
       "Columns: [city, City ID, Country, Latitude, Longitude, Date, Cloudiness, Humidity, Temperature at Date, Max Temp to Date, Wind Speed]\n",
       "Index: []"
      ]
     },
     "execution_count": 14,
     "metadata": {},
     "output_type": "execute_result"
    }
   ],
   "source": [
    "#  Get the indices of cities that have humidity over 100%.\n",
    "humidity_more_than_100 = weather_check.loc[(weather_check[\"Humidity\"] > 100)]\n",
    "\n",
    "humidity_more_than_100"
   ]
  },
  {
   "cell_type": "code",
   "execution_count": 15,
   "metadata": {},
   "outputs": [],
   "source": [
    "# Make a new DataFrame equal to the city data to drop all humidity outliers by index.\n",
    "# Passing \"inplace=False\" will make a copy of the city_data DataFrame, which we call \"clean_city_data\".\n",
    "\n",
    "\n",
    "quartiles = humidity_less_than_100[\"Humidity\"].quantile([.25, .5, .75])\n",
    "lowerq = quartiles[0.25]\n",
    "upperq = quartiles[0.75]\n",
    "iqr = upperq - lowerq\n",
    "\n",
    "lower_bound = lowerq - (1.5*iqr)\n",
    "upper_bound = upperq + (1.5*iqr)\n",
    "\n",
    "clean_city_data = humidity_less_than_100 = weather_check.loc[(weather_check[\"Humidity\"] > lower_bound)\n",
    "                                                             |(weather_check[\"Humidity\"] < upper_bound) ]\n",
    "\n",
    "clean_city_data\n",
    "\n",
    "# export into csv file\n",
    "\n",
    "clean_city_data.to_csv(\"output_data/cities.csv\", index = False, header = True)\n",
    "\n"
   ]
  },
  {
   "cell_type": "code",
   "execution_count": null,
   "metadata": {},
   "outputs": [],
   "source": [
    "\n"
   ]
  },
  {
   "cell_type": "markdown",
   "metadata": {},
   "source": [
    "## Plotting the Data\n",
    "* Use proper labeling of the plots using plot titles (including date of analysis) and axes labels.\n",
    "* Save the plotted figures as .pngs."
   ]
  },
  {
   "cell_type": "markdown",
   "metadata": {},
   "source": [
    "## Latitude vs. Temperature Plot"
   ]
  },
  {
   "cell_type": "code",
   "execution_count": 35,
   "metadata": {
    "scrolled": true
   },
   "outputs": [
    {
     "name": "stdout",
     "output_type": "stream",
     "text": [
      "10/24/20\n"
     ]
    },
    {
     "data": {
      "image/png": "[encoded data removed]",
      "text/plain": [
       "<Figure size 432x288 with 1 Axes>"
      ]
     },
     "metadata": {
      "needs_background": "light"
     },
     "output_type": "display_data"
    }
   ],
   "source": [
    "sysdate = datetime.datetime.now()\n",
    "print(sysdate.strftime(\"%m/%d/%y\"))\n",
    "plt.scatter(clean_city_data[\"Latitude\"], clean_city_data[\"Max Temp to Date\"], marker = \"o\", facecolor =\"navy\", edgecolor = \"black\")\n",
    "plt.title(f\"City Latitude vs. Max Temperature (%s) (\" +sysdate.strftime(\"%m/%d/%y\")+\")\")\n",
    "plt.xlabel(\"Latitude\")\n",
    "plt.ylabel(\"Max Temperature (F)\")\n",
    "plt.grid()\n",
    "plt.savefig(\"output_Data/Images/temperature.png\")\n",
    "plt.show()"
   ]
  },
  {
   "cell_type": "markdown",
   "metadata": {},
   "source": [
    "## Latitude vs. Humidity Plot"
   ]
  },
  {
   "cell_type": "code",
   "execution_count": 36,
   "metadata": {},
   "outputs": [
    {
     "name": "stdout",
     "output_type": "stream",
     "text": [
      "10/24/20\n"
     ]
    },
    {
     "data": {
      "image/png": "[encoded data removed]",
      "text/plain": [
       "<Figure size 432x288 with 1 Axes>"
      ]
     },
     "metadata": {
      "needs_background": "light"
     },
     "output_type": "display_data"
    }
   ],
   "source": [
    "sysdate = datetime.datetime.now()\n",
    "print(sysdate.strftime(\"%m/%d/%y\"))\n",
    "plt.scatter(clean_city_data[\"Latitude\"], clean_city_data[\"Humidity\"], marker = \"o\", facecolor =\"navy\", edgecolor = \"black\")\n",
    "plt.title(f\"City Latitude vs. Humidity (%s) (\" +sysdate.strftime(\"%m/%d/%y\")+\")\")\n",
    "plt.xlabel(\"Latitude\")\n",
    "plt.ylabel(\"Max Temperature (F)\")\n",
    "plt.grid()\n",
    "plt.savefig(\"output_Data/Images/humidity.png\")\n",
    "plt.show()"
   ]
  },
  {
   "cell_type": "markdown",
   "metadata": {},
   "source": [
    "## Latitude vs. Cloudiness Plot"
   ]
  },
  {
   "cell_type": "code",
   "execution_count": 37,
   "metadata": {},
   "outputs": [
    {
     "name": "stdout",
     "output_type": "stream",
     "text": [
      "10/24/20\n"
     ]
    },
    {
     "data": {
      "image/png": "[encoded data removed]",
      "text/plain": [
       "<Figure size 432x288 with 1 Axes>"
      ]
     },
     "metadata": {
      "needs_background": "light"
     },
     "output_type": "display_data"
    }
   ],
   "source": [
    "sysdate = datetime.datetime.now()\n",
    "print(sysdate.strftime(\"%m/%d/%y\"))\n",
    "\n",
    "plt.scatter(clean_city_data[\"Latitude\"], clean_city_data[\"Cloudiness\"], marker = \"o\", facecolor =\"navy\", edgecolor = \"black\")\n",
    "plt.title(f\"City Latitude vs. Cloudiness (%s) (\" +sysdate.strftime(\"%m/%d/%y\")+\")\")\n",
    "plt.xlabel(\"Latitude\")\n",
    "plt.ylabel(\"Max Temperature (F)\")\n",
    "plt.grid()\n",
    "plt.savefig(\"output_Data/Images/cloudiness.png\")\n",
    "plt.show()"
   ]
  },
  {
   "cell_type": "markdown",
   "metadata": {},
   "source": [
    "## Latitude vs. Wind Speed Plot"
   ]
  },
  {
   "cell_type": "code",
   "execution_count": 38,
   "metadata": {},
   "outputs": [
    {
     "name": "stdout",
     "output_type": "stream",
     "text": [
      "10/24/20\n"
     ]
    },
    {
     "data": {
      "image/png": "[encoded data removed]",
      "text/plain": [
       "<Figure size 432x288 with 1 Axes>"
      ]
     },
     "metadata": {
      "needs_background": "light"
     },
     "output_type": "display_data"
    }
   ],
   "source": [
    "sysdate = datetime.datetime.now()\n",
    "print(sysdate.strftime(\"%m/%d/%y\"))\n",
    "\n",
    "plt.scatter(clean_city_data[\"Latitude\"], clean_city_data[\"Wind Speed\"], marker = \"o\", facecolor =\"navy\", edgecolor = \"black\")\n",
    "plt.title(f\"City Latitude vs. Wind Speed (%s) (\" +sysdate.strftime(\"%m/%d/%y\")+\")\")\n",
    "plt.xlabel(\"Latitude\")\n",
    "plt.ylabel(\"Max Temperature (F)\")\n",
    "plt.grid()\n",
    "plt.savefig(\"output_Data/Images/wind_speed.png\")\n",
    "plt.show()"
   ]
  },
  {
   "cell_type": "markdown",
   "metadata": {},
   "source": [
    "## Linear Regression"
   ]
  },
  {
   "cell_type": "code",
   "execution_count": 20,
   "metadata": {},
   "outputs": [],
   "source": [
    "# Northern and Southern Hemisphere DataFrames\n",
    "\n",
    "northern_hemisphere = clean_city_data.loc[clean_city_data[\"Latitude\"] >=0,:]\n",
    "southern_hemisphere = clean_city_data.loc[clean_city_data[\"Latitude\"] < 0,:]"
   ]
  },
  {
   "cell_type": "code",
   "execution_count": 21,
   "metadata": {},
   "outputs": [],
   "source": [
    "# Define function for creating linear regression and scatter plot\n",
    "def linear_agression(x,y):\n",
    "    print(f\"The r-squared is : {round(st.pearsonr(x, y)[0],2)}\")\n",
    "    (slope, intercept, rvalue, pvalue, stderr) = linregress(x, y)\n",
    "    regress_values = x * slope + intercept\n",
    "    line_eq = \"y = \" + str(round(slope,2)) + \"x + \" + str(round(intercept,2))\n",
    "    plt.scatter(x, y)\n",
    "    plt.plot(x,regress_values,\"r-\")\n",
    "    return line_eq\n",
    "\n",
    "# funtion for annotation\n",
    "\n",
    "def annotate(line_eq, a, b):\n",
    "    plt.annotate(line_eq,(a,b),fontsize=15,color=\"red\")"
   ]
  },
  {
   "cell_type": "markdown",
   "metadata": {},
   "source": [
    "####  Northern Hemisphere - Max Temp vs. Latitude Linear Regression"
   ]
  },
  {
   "cell_type": "code",
   "execution_count": 22,
   "metadata": {},
   "outputs": [
    {
     "name": "stdout",
     "output_type": "stream",
     "text": [
      "The r-squared is : -0.88\n"
     ]
    },
    {
     "data": {
      "image/png": "[encoded data removed]",
      "text/plain": [
       "<Figure size 432x288 with 1 Axes>"
      ]
     },
     "metadata": {
      "needs_background": "light"
     },
     "output_type": "display_data"
    }
   ],
   "source": [
    "\n",
    "# function #1\n",
    "\n",
    "equation = linear_agression(northern_hemisphere[\"Latitude\"], northern_hemisphere[\"Max Temp to Date\"])\n",
    "\n",
    "# annotate function\n",
    "\n",
    "annotate(equation, 0, 0)\n",
    "\n",
    "#Title\n",
    "\n",
    "plt.title(\"Northern Hemisphere - Max Temp vs, Latitude Linear Regression\")\n",
    "\n",
    "#set x label\n",
    "\n",
    "plt.xlabel(\"Latitude\")\n",
    "\n",
    "#set y label\n",
    "\n",
    "plt.ylabel(\"Max Temp (F)\")\n",
    "\n",
    "# save fig \n",
    "\n",
    "plt.savefig(\"output_data/Images/NorthHem_MaxTempVsLatLinearRegression.png\")"
   ]
  },
  {
   "cell_type": "markdown",
   "metadata": {},
   "source": [
    "####  Southern Hemisphere - Max Temp vs. Latitude Linear Regression"
   ]
  },
  {
   "cell_type": "code",
   "execution_count": 23,
   "metadata": {},
   "outputs": [
    {
     "name": "stdout",
     "output_type": "stream",
     "text": [
      "The r-squared is : 0.64\n"
     ]
    },
    {
     "data": {
      "image/png": "[encoded data removed]",
      "text/plain": [
       "<Figure size 432x288 with 1 Axes>"
      ]
     },
     "metadata": {
      "needs_background": "light"
     },
     "output_type": "display_data"
    }
   ],
   "source": [
    "# function #1\n",
    "\n",
    "equation = linear_agression(southern_hemisphere[\"Latitude\"], southern_hemisphere[\"Max Temp to Date\"])\n",
    "\n",
    "# annotate function\n",
    "\n",
    "annotate(equation, -30, 50)\n",
    "\n",
    "#Title\n",
    "\n",
    "plt.title(\"Southern Hemisphere - Max Temp vs, Latitude Linear Regression\")\n",
    "\n",
    "#set x label\n",
    "\n",
    "plt.xlabel(\"Latitude\")\n",
    "\n",
    "#set y label\n",
    "\n",
    "plt.ylabel(\"Max Temp (F)\")\n",
    "\n",
    "# save fig \n",
    "\n",
    "plt.savefig(\"output_data/Images/SouthHem_MaxTempVsLatLinearRegression.png\")"
   ]
  },
  {
   "cell_type": "markdown",
   "metadata": {},
   "source": [
    "####  Northern Hemisphere - Humidity (%) vs. Latitude Linear Regression"
   ]
  },
  {
   "cell_type": "code",
   "execution_count": 24,
   "metadata": {},
   "outputs": [
    {
     "name": "stdout",
     "output_type": "stream",
     "text": [
      "The r-squared is : 0.31\n"
     ]
    },
    {
     "data": {
      "image/png": "[encoded data removed]",
      "text/plain": [
       "<Figure size 432x288 with 1 Axes>"
      ]
     },
     "metadata": {
      "needs_background": "light"
     },
     "output_type": "display_data"
    }
   ],
   "source": [
    "# function #1\n",
    "\n",
    "equation = linear_agression(northern_hemisphere[\"Latitude\"], northern_hemisphere[\"Humidity\"])\n",
    "\n",
    "# annotate function\n",
    "\n",
    "annotate(equation, 0, 0)\n",
    "\n",
    "#Title\n",
    "\n",
    "plt.title(\"Northern Hemisphere - Humidity (%) vs, Latitude Linear Regression\")\n",
    "\n",
    "#set x label\n",
    "\n",
    "plt.xlabel(\"Latitude\")\n",
    "\n",
    "#set y label\n",
    "\n",
    "plt.ylabel(\"HUmidity (%)\")\n",
    "\n",
    "# save fig \n",
    "\n",
    "plt.savefig(\"output_data/Images/NorthHem_HumidityVsLatLinearRegression.png\")"
   ]
  },
  {
   "cell_type": "markdown",
   "metadata": {},
   "source": [
    "####  Southern Hemisphere - Humidity (%) vs. Latitude Linear Regression"
   ]
  },
  {
   "cell_type": "code",
   "execution_count": 25,
   "metadata": {},
   "outputs": [
    {
     "name": "stdout",
     "output_type": "stream",
     "text": [
      "The r-squared is : 0.04\n"
     ]
    },
    {
     "data": {
      "image/png": "[encoded data removed]",
      "text/plain": [
       "<Figure size 432x288 with 1 Axes>"
      ]
     },
     "metadata": {
      "needs_background": "light"
     },
     "output_type": "display_data"
    }
   ],
   "source": [
    "# function #1\n",
    "\n",
    "equation = linear_agression(southern_hemisphere[\"Latitude\"], southern_hemisphere[\"Humidity\"])\n",
    "\n",
    "# annotate function\n",
    "\n",
    "annotate(equation, -40, 50)\n",
    "\n",
    "#Title\n",
    "\n",
    "plt.title(\"Southern Hemisphere - Humidity (%) vs, Latitude Linear Regression\")\n",
    "\n",
    "#set x label\n",
    "\n",
    "plt.xlabel(\"Latitude\")\n",
    "\n",
    "#set y label\n",
    "\n",
    "plt.ylabel(\"Humidity (%)\")\n",
    "\n",
    "# save fig \n",
    "\n",
    "plt.savefig(\"output_data/Images/SouthHem_HumidityVsLatLinearRegression.png\")"
   ]
  },
  {
   "cell_type": "markdown",
   "metadata": {},
   "source": [
    "####  Northern Hemisphere - Cloudiness (%) vs. Latitude Linear Regression"
   ]
  },
  {
   "cell_type": "code",
   "execution_count": 26,
   "metadata": {},
   "outputs": [
    {
     "name": "stdout",
     "output_type": "stream",
     "text": [
      "The r-squared is : 0.14\n"
     ]
    },
    {
     "data": {
      "image/png": "[encoded data removed]",
      "text/plain": [
       "<Figure size 432x288 with 1 Axes>"
      ]
     },
     "metadata": {
      "needs_background": "light"
     },
     "output_type": "display_data"
    }
   ],
   "source": [
    "# function #1\n",
    "\n",
    "equation = linear_agression(northern_hemisphere[\"Latitude\"], northern_hemisphere[\"Cloudiness\"])\n",
    "\n",
    "# annotate function\n",
    "\n",
    "annotate(equation, 30, 40)\n",
    "\n",
    "#Title\n",
    "\n",
    "plt.title(\"Northern Hemisphere - Cloudiness (%) vs, Latitude Linear Regression\")\n",
    "\n",
    "#set x label\n",
    "\n",
    "plt.xlabel(\"Latitude\")\n",
    "\n",
    "#set y label\n",
    "\n",
    "plt.ylabel(\"Cloudiness (%)\")\n",
    "\n",
    "# save fig \n",
    "\n",
    "plt.savefig(\"output_data/Images/NorthHem_CloudinessVsLatLinearRegression.png\")"
   ]
  },
  {
   "cell_type": "markdown",
   "metadata": {},
   "source": [
    "####  Southern Hemisphere - Cloudiness (%) vs. Latitude Linear Regression"
   ]
  },
  {
   "cell_type": "code",
   "execution_count": 27,
   "metadata": {},
   "outputs": [
    {
     "name": "stdout",
     "output_type": "stream",
     "text": [
      "The r-squared is : -0.01\n"
     ]
    },
    {
     "data": {
      "image/png": "[encoded data removed]",
      "text/plain": [
       "<Figure size 432x288 with 1 Axes>"
      ]
     },
     "metadata": {
      "needs_background": "light"
     },
     "output_type": "display_data"
    }
   ],
   "source": [
    "# function #1\n",
    "\n",
    "equation = linear_agression(southern_hemisphere[\"Latitude\"], southern_hemisphere[\"Cloudiness\"])\n",
    "\n",
    "# annotate function\n",
    "\n",
    "annotate(equation, -30, 40)\n",
    "\n",
    "#Title\n",
    "\n",
    "plt.title(\"Southern Hemisphere - Cloudiness (%) vs, Latitude Linear Regression\")\n",
    "\n",
    "#set x label\n",
    "\n",
    "plt.xlabel(\"Latitude\")\n",
    "\n",
    "#set y label\n",
    "\n",
    "plt.ylabel(\"Cloudiness (%)\")\n",
    "\n",
    "# save fig \n",
    "\n",
    "plt.savefig(\"output_data/Images/SouthHem_CloudinessVsLatLinearRegression.png\")"
   ]
  },
  {
   "cell_type": "markdown",
   "metadata": {},
   "source": [
    "####  Northern Hemisphere - Wind Speed (mph) vs. Latitude Linear Regression"
   ]
  },
  {
   "cell_type": "code",
   "execution_count": 28,
   "metadata": {},
   "outputs": [
    {
     "name": "stdout",
     "output_type": "stream",
     "text": [
      "The r-squared is : 0.16\n"
     ]
    },
    {
     "data": {
      "image/png": "[encoded data removed]",
      "text/plain": [
       "<Figure size 432x288 with 1 Axes>"
      ]
     },
     "metadata": {
      "needs_background": "light"
     },
     "output_type": "display_data"
    }
   ],
   "source": [
    "# function #1\n",
    "\n",
    "equation = linear_agression(northern_hemisphere[\"Latitude\"], northern_hemisphere[\"Wind Speed\"])\n",
    "\n",
    "# annotate function\n",
    "\n",
    "annotate(equation, 40, 20)\n",
    "\n",
    "#Title\n",
    "\n",
    "plt.title(\"Northern Hemisphere - Wind Speed (mph) vs, Latitude Linear Regression\")\n",
    "\n",
    "#set x label\n",
    "\n",
    "plt.xlabel(\"Latitude\")\n",
    "\n",
    "#set y label\n",
    "\n",
    "plt.ylabel(\"Wind Speed (mph)\")\n",
    "\n",
    "# save fig \n",
    "\n",
    "plt.savefig(\"output_data/Images/NorthHem_WindSpeedVsLatLinearRegression.png\")"
   ]
  },
  {
   "cell_type": "markdown",
   "metadata": {},
   "source": [
    "####  Southern Hemisphere - Wind Speed (mph) vs. Latitude Linear Regression"
   ]
  },
  {
   "cell_type": "code",
   "execution_count": 29,
   "metadata": {},
   "outputs": [
    {
     "name": "stdout",
     "output_type": "stream",
     "text": [
      "The r-squared is : -0.13\n"
     ]
    },
    {
     "data": {
      "image/png": "[encoded data removed]",
      "text/plain": [
       "<Figure size 432x288 with 1 Axes>"
      ]
     },
     "metadata": {
      "needs_background": "light"
     },
     "output_type": "display_data"
    }
   ],
   "source": [
    "# function #1\n",
    "\n",
    "equation = linear_agression(southern_hemisphere[\"Latitude\"], southern_hemisphere[\"Wind Speed\"])\n",
    "\n",
    "# annotate function\n",
    "\n",
    "annotate(equation, -30, 15)\n",
    "\n",
    "#Title\n",
    "\n",
    "plt.title(\"Southern Hemisphere - Wind Speed (mph) vs, Latitude Linear Regression\")\n",
    "\n",
    "#set x label\n",
    "\n",
    "plt.xlabel(\"Latitude\")\n",
    "\n",
    "#set y label\n",
    "\n",
    "plt.ylabel(\"Wind Speed (mph)\")\n",
    "\n",
    "# save fig \n",
    "\n",
    "plt.savefig(\"output_data/Images/SouthHem_WindSpeedVsLatLinearRegression.png\")"
   ]
  },
  {
   "cell_type": "code",
   "execution_count": 30,
   "metadata": {},
   "outputs": [
    {
     "name": "stdout",
     "output_type": "stream",
     "text": [
      "Comment:\n",
      "             \n",
      "Since the r-squared is closer to zero or negative in some cases, the Humidity, Cloudiness and Wind Speed cannot be explianed by City Latitudes in both Hemispheres.\n",
      "There seems to a strong corrleation of temperatures and latitudes in both hemispheres.\n",
      "The r squared for Souther Hemisphere shows that Temperature increase with increase in Latitude.\n"
     ]
    }
   ],
   "source": [
    "print (\"Comment:\")\n",
    "\n",
    "print(f\"             \")\n",
    "\n",
    "print(f\"Since the r-squared is closer to zero or negative in some cases, the Humidity, Cloudiness and Wind Speed cannot be explianed by City Latitudes in both Hemispheres.\")\n",
    "print(f\"There seems to a strong corrleation of temperatures and latitudes in both hemispheres.\")\n",
    "print(f\"The r squared for Souther Hemisphere shows that Temperature increase with increase in Latitude.\")\n",
    "      "
   ]
  },
  {
   "cell_type": "code",
   "execution_count": null,
   "metadata": {},
   "outputs": [],
   "source": []
  }
 ],
 "metadata": {
  "anaconda-cloud": {},
  "kernel_info": {
   "name": "python3"
  },
  "kernelspec": {
   "display_name": "Python 3",
   "language": "python",
   "name": "python3"
  },
  "language_info": {
   "codemirror_mode": {
    "name": "ipython",
    "version": 3
   },
   "file_extension": ".py",
   "mimetype": "text/x-python",
   "name": "python",
   "nbconvert_exporter": "python",
   "pygments_lexer": "ipython3",
   "version": "3.8.3"
  },
  "latex_envs": {
   "LaTeX_envs_menu_present": true,
   "autoclose": false,
   "autocomplete": true,
   "bibliofile": "biblio.bib",
   "cite_by": "apalike",
   "current_citInitial": 1,
   "eqLabelWithNumbers": true,
   "eqNumInitial": 1,
   "hotkeys": {
    "equation": "Ctrl-E",
    "itemize": "Ctrl-I"
   },
   "labels_anchors": false,
   "latex_user_defs": false,
   "report_style_numbering": false,
   "user_envs_cfg": false
  },
  "nteract": {
   "version": "0.12.3"
  }
 },
 "nbformat": 4,
 "nbformat_minor": 2
}
