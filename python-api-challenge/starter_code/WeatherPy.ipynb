{
 "cells": [
  {
   "cell_type": "markdown",
   "metadata": {},
   "source": [
    "# WeatherPy\n",
    "----\n",
    "\n",
    "#### Note\n",
    "* Instructions have been included for each segment. You do not have to follow them exactly, but they are included to help you think through the steps."
   ]
  },
  {
   "cell_type": "code",
   "execution_count": 1,
   "metadata": {
    "scrolled": true
   },
   "outputs": [],
   "source": [
    "# Dependencies\n",
    "\n",
    "import requests\n",
    "import json\n",
    "import numpy as np\n",
    "import pandas as pd\n",
    "import matplotlib.pyplot as plt\n",
    "from scipy.stats import linregress\n",
    "import scipy.stats as st\n",
    "from citipy import citipy\n",
    "from api_keys import weather_api_key"
   ]
  },
  {
   "cell_type": "code",
   "execution_count": 2,
   "metadata": {},
   "outputs": [],
   "source": [
    "# Save config information\n",
    "url = \"http://api.openweathermap.org/data/2.5/weather?\"\n",
    "city = \"castro\"\n",
    "\n",
    "# Build query URL\n",
    "query_url = url + \"appid=\" + weather_api_key + \"&q=\" + city"
   ]
  },
  {
   "cell_type": "markdown",
   "metadata": {},
   "source": [
    "## Generate Cities List"
   ]
  },
  {
   "cell_type": "code",
   "execution_count": 3,
   "metadata": {},
   "outputs": [
    {
     "data": {
      "text/plain": [
       "array([  6.63241077,  28.2100515 ,   5.37479732, ..., -47.62638315,\n",
       "         5.2912623 , -66.52152465])"
      ]
     },
     "execution_count": 3,
     "metadata": {},
     "output_type": "execute_result"
    }
   ],
   "source": [
    "# Generate random list\n",
    "lat=np.random.uniform(low=-90, high=90, size=1500)\n",
    "lat"
   ]
  },
  {
   "cell_type": "code",
   "execution_count": 4,
   "metadata": {},
   "outputs": [
    {
     "data": {
      "text/plain": [
       "array([  10.50118888,   49.4364933 , -136.50992961, ...,  -13.42370476,\n",
       "          1.10409746, -152.79088735])"
      ]
     },
     "execution_count": 4,
     "metadata": {},
     "output_type": "execute_result"
    }
   ],
   "source": [
    "lon=np.random.uniform(low=-180, high=180, size=1500)\n",
    "lon"
   ]
  },
  {
   "cell_type": "code",
   "execution_count": null,
   "metadata": {},
   "outputs": [],
   "source": []
  },
  {
   "cell_type": "code",
   "execution_count": 5,
   "metadata": {},
   "outputs": [],
   "source": [
    "cities = []\n",
    "positions= list(zip(lat,lon))\n",
    "#positions\n",
    "\n",
    "for position in positions:\n",
    "   \n",
    "    city = citipy.nearest_city(position[0], position[1]).city_name\n",
    "    if city not in cities:\n",
    "        cities.append(city)"
   ]
  },
  {
   "cell_type": "code",
   "execution_count": 6,
   "metadata": {},
   "outputs": [],
   "source": [
    "#print(cities)"
   ]
  },
  {
   "cell_type": "code",
   "execution_count": 7,
   "metadata": {},
   "outputs": [
    {
     "data": {
      "text/plain": [
       "619"
      ]
     },
     "execution_count": 7,
     "metadata": {},
     "output_type": "execute_result"
    }
   ],
   "source": [
    "len(cities)"
   ]
  },
  {
   "cell_type": "markdown",
   "metadata": {},
   "source": [
    "### Perform API Calls\n",
    "* Perform a weather check on each city using a series of successive API calls.\n",
    "* Include a print log of each city as it'sbeing processed (with the city number and city name).\n"
   ]
  },
  {
   "cell_type": "code",
   "execution_count": 8,
   "metadata": {
    "scrolled": true
   },
   "outputs": [],
   "source": [
    "url = \"http://api.openweathermap.org/data/2.5/weather?\"\n",
    "units = \"metric\""
   ]
  },
  {
   "cell_type": "code",
   "execution_count": 9,
   "metadata": {},
   "outputs": [
    {
     "data": {
      "text/plain": [
       "'ef947681f26f8df1851951dae43c66d8'"
      ]
     },
     "execution_count": 9,
     "metadata": {},
     "output_type": "execute_result"
    }
   ],
   "source": [
    "weather_api_key"
   ]
  },
  {
   "cell_type": "code",
   "execution_count": 10,
   "metadata": {},
   "outputs": [
    {
     "data": {
      "text/plain": [
       "'http://api.openweathermap.org/data/2.5/weather?appid=ef947681f26f8df1851951dae43c66d8&units=metric&q='"
      ]
     },
     "execution_count": 10,
     "metadata": {},
     "output_type": "execute_result"
    }
   ],
   "source": [
    "# Build query URL\n",
    "query1_url = f\"{url}appid={weather_api_key}&units={units}&q=\"\n",
    "query1_url"
   ]
  },
  {
   "cell_type": "code",
   "execution_count": 11,
   "metadata": {},
   "outputs": [
    {
     "name": "stdout",
     "output_type": "stream",
     "text": [
      "City not found. Skipping .....\n",
      "Processing Record 1 : bushehr\n",
      "Processing Record 2 : atuona\n",
      "Processing Record 3 : dongsheng\n",
      "Processing Record 4 : ponta do sol\n",
      "Processing Record 5 : lasa\n",
      "Processing Record 6 : pangody\n",
      "Processing Record 7 : broken hill\n",
      "Processing Record 8 : busselton\n",
      "Processing Record 9 : paradise valley\n",
      "Processing Record 10 : port alfred\n",
      "Processing Record 11 : abu samrah\n",
      "Processing Record 12 : rikitea\n",
      "Processing Record 13 : tasiilaq\n",
      "Processing Record 14 : ancud\n",
      "Processing Record 15 : bredasdorp\n",
      "Processing Record 16 : qaanaaq\n",
      "Processing Record 17 : port-cartier\n",
      "Processing Record 18 : dingle\n",
      "Processing Record 19 : bengkulu\n",
      "Processing Record 20 : sioux lookout\n",
      "Processing Record 21 : clyde river\n",
      "Processing Record 22 : codrington\n",
      "Processing Record 23 : mataura\n",
      "City not found. Skipping .....\n",
      "City not found. Skipping .....\n",
      "Processing Record 24 : jamestown\n",
      "Processing Record 25 : katsuura\n",
      "Processing Record 26 : east london\n",
      "Processing Record 27 : kapaa\n",
      "Processing Record 28 : airai\n",
      "Processing Record 29 : mar del plata\n",
      "Processing Record 30 : baghdad\n",
      "Processing Record 31 : half moon bay\n",
      "Processing Record 32 : vaini\n",
      "Processing Record 33 : vikhorevka\n",
      "Processing Record 34 : zhireken\n",
      "Processing Record 35 : shalya\n",
      "Processing Record 36 : avarua\n",
      "Processing Record 37 : berdigestyakh\n",
      "City not found. Skipping .....\n",
      "Processing Record 38 : new norfolk\n",
      "Processing Record 39 : anito\n",
      "Processing Record 40 : biltine\n",
      "Processing Record 41 : carnarvon\n",
      "City not found. Skipping .....\n",
      "Processing Record 42 : envira\n",
      "Processing Record 43 : erzin\n",
      "Processing Record 44 : albany\n",
      "Processing Record 45 : hermanus\n",
      "Processing Record 46 : vardo\n",
      "Processing Record 47 : zhezkazgan\n",
      "Processing Record 48 : ushuaia\n",
      "Processing Record 49 : saldanha\n",
      "Processing Record 50 : cabo san lucas\n",
      "Processing Record 51 : saint-philippe\n",
      "Processing Record 52 : yilan\n",
      "Processing Record 53 : castro\n",
      "Processing Record 54 : manggar\n",
      "Processing Record 55 : ileza\n",
      "Processing Record 56 : kruisfontein\n",
      "Processing Record 57 : khatanga\n",
      "Processing Record 58 : ushirombo\n",
      "Processing Record 59 : tenenkou\n",
      "Processing Record 60 : salalah\n",
      "Processing Record 61 : puerto ayora\n",
      "Processing Record 62 : xam nua\n",
      "Processing Record 63 : hobart\n",
      "Processing Record 64 : chokurdakh\n",
      "City not found. Skipping .....\n",
      "City not found. Skipping .....\n",
      "Processing Record 65 : cayenne\n",
      "Processing Record 66 : baykit\n",
      "Processing Record 67 : butaritari\n",
      "Processing Record 68 : steubenville\n",
      "Processing Record 69 : barrow\n",
      "Processing Record 70 : okhotsk\n",
      "Processing Record 71 : upernavik\n",
      "Processing Record 72 : hobyo\n",
      "City not found. Skipping .....\n",
      "City not found. Skipping .....\n",
      "Processing Record 73 : victoria\n",
      "Processing Record 74 : ouro fino\n",
      "Processing Record 75 : huanuni\n",
      "Processing Record 76 : ixtapa\n",
      "City not found. Skipping .....\n",
      "Processing Record 77 : cape town\n",
      "Processing Record 78 : bayir\n",
      "Processing Record 79 : urusha\n",
      "Processing Record 80 : shimoda\n",
      "Processing Record 81 : severo-kurilsk\n",
      "Processing Record 82 : kumsi\n",
      "Processing Record 83 : villazon\n",
      "Processing Record 84 : leiyang\n",
      "Processing Record 85 : vila velha\n",
      "Processing Record 86 : sitka\n",
      "Processing Record 87 : george\n",
      "City not found. Skipping .....\n",
      "Processing Record 88 : port elizabeth\n",
      "Processing Record 89 : russkaya polyana\n",
      "City not found. Skipping .....\n",
      "Processing Record 90 : port lincoln\n",
      "Processing Record 91 : margate\n",
      "Processing Record 92 : aykhal\n",
      "City not found. Skipping .....\n",
      "Processing Record 93 : mahebourg\n",
      "Processing Record 94 : dikson\n",
      "Processing Record 95 : ngunguru\n",
      "Processing Record 96 : faanui\n",
      "Processing Record 97 : tambopata\n",
      "Processing Record 98 : bethel\n",
      "Processing Record 99 : miquelon\n",
      "Processing Record 100 : hilo\n",
      "Processing Record 101 : bluff\n",
      "Processing Record 102 : sola\n",
      "Processing Record 103 : punta arenas\n",
      "Processing Record 104 : san cristobal\n",
      "Processing Record 105 : bathsheba\n",
      "Processing Record 106 : boyuibe\n",
      "Processing Record 107 : paracuru\n",
      "Processing Record 108 : kaitangata\n",
      "Processing Record 109 : hithadhoo\n",
      "Processing Record 110 : waddan\n",
      "Processing Record 111 : antofagasta\n",
      "Processing Record 112 : sao filipe\n",
      "Processing Record 113 : brae\n",
      "Processing Record 114 : tuatapere\n",
      "Processing Record 115 : saskylakh\n",
      "Processing Record 116 : cherskiy\n",
      "Processing Record 117 : eyl\n",
      "Processing Record 118 : asekeyevo\n",
      "Processing Record 119 : luderitz\n",
      "Processing Record 120 : baruun-urt\n",
      "Processing Record 121 : lebu\n",
      "Processing Record 122 : kavaratti\n",
      "Processing Record 123 : jijiga\n",
      "Processing Record 124 : kaeo\n",
      "Processing Record 125 : macapa\n",
      "Processing Record 126 : iqaluit\n",
      "Processing Record 127 : catio\n",
      "Processing Record 128 : basco\n",
      "Processing Record 129 : lazaro cardenas\n",
      "City not found. Skipping .....\n",
      "Processing Record 130 : longyearbyen\n",
      "Processing Record 131 : oranjemund\n",
      "Processing Record 132 : baeza\n",
      "Processing Record 133 : havelian\n",
      "Processing Record 134 : fortuna\n",
      "Processing Record 135 : tilichiki\n",
      "Processing Record 136 : college\n",
      "Processing Record 137 : aklavik\n",
      "Processing Record 138 : bilma\n",
      "Processing Record 139 : tuktoyaktuk\n",
      "Processing Record 140 : cidreira\n",
      "Processing Record 141 : agutaya\n",
      "Processing Record 142 : himare\n",
      "Processing Record 143 : akdepe\n",
      "Processing Record 144 : islahiye\n",
      "Processing Record 145 : provideniya\n",
      "Processing Record 146 : teahupoo\n",
      "Processing Record 147 : georgetown\n",
      "Processing Record 148 : sovetskiy\n",
      "Processing Record 149 : ugoofaaru\n",
      "Processing Record 150 : haines junction\n",
      "Processing Record 151 : north bend\n",
      "Processing Record 152 : daru\n",
      "Processing Record 153 : loudi\n",
      "Processing Record 154 : husavik\n",
      "Processing Record 155 : mecca\n",
      "Processing Record 156 : presque isle\n",
      "Processing Record 157 : kintampo\n",
      "Processing Record 158 : bundibugyo\n",
      "Processing Record 159 : lata\n",
      "Processing Record 160 : kavieng\n",
      "City not found. Skipping .....\n",
      "Processing Record 161 : port moresby\n",
      "Processing Record 162 : klaksvik\n",
      "City not found. Skipping .....\n",
      "Processing Record 163 : qaqortoq\n",
      "City not found. Skipping .....\n",
      "Processing Record 164 : shelburne\n",
      "Processing Record 165 : talaja\n",
      "City not found. Skipping .....\n",
      "City not found. Skipping .....\n",
      "Processing Record 166 : ahipara\n",
      "Processing Record 167 : saint george\n",
      "Processing Record 168 : mingshui\n",
      "Processing Record 169 : leningradskiy\n",
      "City not found. Skipping .....\n",
      "Processing Record 170 : arraial do cabo\n",
      "Processing Record 171 : sakakah\n",
      "Processing Record 172 : touros\n",
      "Processing Record 173 : remanso\n",
      "Processing Record 174 : thompson\n",
      "Processing Record 175 : keila\n",
      "Processing Record 176 : minab\n",
      "Processing Record 177 : chumikan\n",
      "Processing Record 178 : hengshui\n",
      "Processing Record 179 : kieta\n",
      "City not found. Skipping .....\n",
      "Processing Record 180 : torbay\n",
      "Processing Record 181 : khorramabad\n",
      "City not found. Skipping .....\n",
      "Processing Record 182 : poopo\n",
      "Processing Record 183 : nizwa\n",
      "Processing Record 184 : muros\n",
      "Processing Record 185 : hofn\n",
      "Processing Record 186 : wanaka\n",
      "Processing Record 187 : nishihara\n",
      "Processing Record 188 : caravelas\n",
      "Processing Record 189 : kirakira\n",
      "Processing Record 190 : pundaguitan\n",
      "Processing Record 191 : narsaq\n",
      "Processing Record 192 : itacoatiara\n",
      "Processing Record 193 : pisco\n",
      "Processing Record 194 : omsukchan\n",
      "Processing Record 195 : saint-augustin\n",
      "Processing Record 196 : mitsamiouli\n",
      "Processing Record 197 : mayo\n",
      "Processing Record 198 : amga\n",
      "Processing Record 199 : moose factory\n",
      "Processing Record 200 : lavumisa\n",
      "Processing Record 201 : solnechnyy\n",
      "Processing Record 202 : homer\n",
      "Processing Record 203 : papayal\n",
      "Processing Record 204 : shenjiamen\n",
      "Processing Record 205 : ust-ordynskiy\n",
      "Processing Record 206 : kem\n",
      "Processing Record 207 : araouane\n",
      "Processing Record 208 : hasaki\n",
      "City not found. Skipping .....\n",
      "Processing Record 209 : kurchum\n",
      "Processing Record 210 : acapulco\n",
      "Processing Record 211 : ostrovnoy\n",
      "City not found. Skipping .....\n",
      "Processing Record 212 : vestmannaeyjar\n",
      "Processing Record 213 : souillac\n",
      "Processing Record 214 : nordenham\n",
      "Processing Record 215 : nemuro\n",
      "Processing Record 216 : hay river\n",
      "Processing Record 217 : trinidad\n",
      "Processing Record 218 : yerbogachen\n",
      "Processing Record 219 : guarapari\n",
      "Processing Record 220 : kimbe\n",
      "Processing Record 221 : simao\n",
      "Processing Record 222 : naco\n",
      "Processing Record 223 : aden\n",
      "Processing Record 224 : warri\n",
      "Processing Record 225 : nikolskoye\n",
      "Processing Record 226 : gallup\n",
      "Processing Record 227 : belle fourche\n",
      "Processing Record 228 : gorey\n",
      "Processing Record 229 : stromness\n",
      "Processing Record 230 : bambous virieux\n"
     ]
    },
    {
     "name": "stdout",
     "output_type": "stream",
     "text": [
      "Processing Record 231 : yellowknife\n",
      "Processing Record 232 : camacha\n",
      "Processing Record 233 : ternate\n",
      "Processing Record 234 : nadym\n",
      "Processing Record 235 : kaminoyama\n",
      "Processing Record 236 : conde\n",
      "Processing Record 237 : karaton\n",
      "Processing Record 238 : puerto escondido\n",
      "Processing Record 239 : stokmarknes\n",
      "Processing Record 240 : pahrump\n",
      "Processing Record 241 : hamilton\n",
      "City not found. Skipping .....\n",
      "Processing Record 242 : manglisi\n",
      "Processing Record 243 : deputatskiy\n",
      "Processing Record 244 : atherton\n",
      "Processing Record 245 : port keats\n",
      "Processing Record 246 : taoudenni\n",
      "Processing Record 247 : wad rawah\n",
      "Processing Record 248 : koslan\n",
      "Processing Record 249 : tautira\n",
      "Processing Record 250 : vredendal\n",
      "Processing Record 251 : mandera\n",
      "City not found. Skipping .....\n",
      "City not found. Skipping .....\n",
      "Processing Record 252 : sisophon\n",
      "Processing Record 253 : sopelana\n",
      "City not found. Skipping .....\n",
      "Processing Record 254 : komsomolskiy\n",
      "Processing Record 255 : naze\n",
      "Processing Record 256 : tuensang\n",
      "Processing Record 257 : marsh harbour\n",
      "Processing Record 258 : jasper\n",
      "City not found. Skipping .....\n",
      "Processing Record 259 : thinadhoo\n",
      "Processing Record 260 : veraval\n",
      "Processing Record 261 : guerrero negro\n",
      "Processing Record 262 : kodiak\n",
      "Processing Record 263 : chuy\n",
      "Processing Record 264 : humberto de campos\n",
      "Processing Record 265 : timiryazevskiy\n",
      "Processing Record 266 : lunsar\n",
      "Processing Record 267 : norman wells\n",
      "Processing Record 268 : praia da vitoria\n",
      "Processing Record 269 : alofi\n",
      "Processing Record 270 : san antonio\n",
      "Processing Record 271 : san luis\n",
      "Processing Record 272 : asau\n",
      "Processing Record 273 : shaoxing\n",
      "Processing Record 274 : ewa beach\n",
      "Processing Record 275 : ayagoz\n",
      "Processing Record 276 : isla mujeres\n",
      "Processing Record 277 : teya\n",
      "Processing Record 278 : keti bandar\n",
      "Processing Record 279 : yuxia\n",
      "Processing Record 280 : te anau\n",
      "Processing Record 281 : viedma\n",
      "Processing Record 282 : dallas\n",
      "Processing Record 283 : lodwar\n",
      "Processing Record 284 : cockburn town\n",
      "Processing Record 285 : olafsvik\n",
      "Processing Record 286 : snasa\n",
      "Processing Record 287 : mahajanga\n",
      "Processing Record 288 : mehamn\n",
      "City not found. Skipping .....\n",
      "Processing Record 289 : tupik\n",
      "Processing Record 290 : kosh-agach\n",
      "Processing Record 291 : rio grande\n",
      "Processing Record 292 : encruzilhada do sul\n",
      "Processing Record 293 : portland\n",
      "Processing Record 294 : morwell\n",
      "Processing Record 295 : ponta delgada\n",
      "Processing Record 296 : bayan\n",
      "Processing Record 297 : arboledas\n",
      "Processing Record 298 : kutum\n",
      "Processing Record 299 : fuling\n",
      "Processing Record 300 : grants pass\n",
      "Processing Record 301 : quatre cocos\n",
      "Processing Record 302 : praya\n",
      "Processing Record 303 : southern pines\n",
      "Processing Record 304 : lisakovsk\n",
      "Processing Record 305 : balgazyn\n",
      "Processing Record 306 : roebourne\n",
      "City not found. Skipping .....\n",
      "Processing Record 307 : alekseyevka\n",
      "Processing Record 308 : mayskiy\n",
      "Processing Record 309 : kargil\n",
      "Processing Record 310 : malgrat de mar\n",
      "City not found. Skipping .....\n",
      "Processing Record 311 : dabakala\n",
      "Processing Record 312 : svetlyy\n",
      "Processing Record 313 : yangambi\n",
      "Processing Record 314 : bayshore gardens\n",
      "Processing Record 315 : ahuimanu\n",
      "Processing Record 316 : ilulissat\n",
      "Processing Record 317 : acarau\n",
      "Processing Record 318 : saint-georges\n",
      "Processing Record 319 : trincomalee\n",
      "Processing Record 320 : san jose\n",
      "Processing Record 321 : boden\n",
      "Processing Record 322 : jacareacanga\n",
      "Processing Record 323 : batagay\n",
      "Processing Record 324 : taitung\n",
      "Processing Record 325 : tiznit\n",
      "City not found. Skipping .....\n",
      "Processing Record 326 : dera bugti\n",
      "Processing Record 327 : laguna\n",
      "Processing Record 328 : churapcha\n",
      "Processing Record 329 : dunedin\n",
      "City not found. Skipping .....\n",
      "Processing Record 330 : kalabo\n",
      "Processing Record 331 : erzurum\n",
      "Processing Record 332 : tepalcatepec\n",
      "Processing Record 333 : mosquera\n",
      "Processing Record 334 : luneville\n",
      "Processing Record 335 : alegrete\n",
      "Processing Record 336 : mount isa\n",
      "Processing Record 337 : asuncion\n",
      "Processing Record 338 : fort nelson\n",
      "Processing Record 339 : nanortalik\n",
      "City not found. Skipping .....\n",
      "City not found. Skipping .....\n",
      "Processing Record 340 : yongan\n",
      "Processing Record 341 : rawson\n",
      "Processing Record 342 : adrar\n",
      "Processing Record 343 : verkhnyaya inta\n",
      "Processing Record 344 : grand-santi\n",
      "Processing Record 345 : celestun\n",
      "Processing Record 346 : sur\n",
      "Processing Record 347 : villa union\n",
      "Processing Record 348 : altay\n",
      "City not found. Skipping .....\n",
      "Processing Record 349 : senador jose porfirio\n",
      "Processing Record 350 : zhigansk\n",
      "Processing Record 351 : aljezur\n",
      "Processing Record 352 : palmer\n",
      "Processing Record 353 : gagino\n",
      "Processing Record 354 : zeya\n",
      "Processing Record 355 : bose\n",
      "Processing Record 356 : nha trang\n",
      "Processing Record 357 : flinders\n",
      "Processing Record 358 : azangaro\n",
      "Processing Record 359 : pastos bons\n",
      "Processing Record 360 : tomatlan\n",
      "Processing Record 361 : makubetsu\n",
      "Processing Record 362 : terrace\n",
      "Processing Record 363 : gornopravdinsk\n",
      "Processing Record 364 : sao jose de ribamar\n",
      "Processing Record 365 : konstantinovsk\n",
      "City not found. Skipping .....\n",
      "Processing Record 366 : ndele\n",
      "Processing Record 367 : natal\n",
      "Processing Record 368 : katangli\n",
      "Processing Record 369 : dibulla\n",
      "Processing Record 370 : paoua\n",
      "Processing Record 371 : north platte\n",
      "Processing Record 372 : kenai\n",
      "Processing Record 373 : arcachon\n",
      "Processing Record 374 : san pedro\n",
      "Processing Record 375 : aasiaat\n",
      "Processing Record 376 : san ramon\n",
      "Processing Record 377 : labuhan\n",
      "Processing Record 378 : fairbanks\n",
      "Processing Record 379 : yulara\n",
      "City not found. Skipping .....\n",
      "Processing Record 380 : harer\n",
      "Processing Record 381 : ulladulla\n",
      "Processing Record 382 : eureka\n",
      "Processing Record 383 : bowen\n",
      "Processing Record 384 : shihezi\n",
      "Processing Record 385 : bandarbeyla\n",
      "Processing Record 386 : bubaque\n",
      "Processing Record 387 : bucerias\n",
      "Processing Record 388 : maragogi\n",
      "Processing Record 389 : siddapur\n",
      "Processing Record 390 : ucluelet\n",
      "Processing Record 391 : nova serrana\n",
      "Processing Record 392 : san lorenzo\n",
      "Processing Record 393 : port hedland\n",
      "Processing Record 394 : alta floresta\n",
      "Processing Record 395 : inongo\n",
      "Processing Record 396 : abu dhabi\n",
      "Processing Record 397 : rafsanjan\n",
      "Processing Record 398 : pevek\n",
      "Processing Record 399 : la rioja\n",
      "Processing Record 400 : ribeira grande\n",
      "Processing Record 401 : constitucion\n",
      "Processing Record 402 : revda\n",
      "Processing Record 403 : aksu\n",
      "Processing Record 404 : comodoro rivadavia\n",
      "Processing Record 405 : avera\n",
      "Processing Record 406 : kalmunai\n",
      "City not found. Skipping .....\n",
      "Processing Record 407 : istok\n",
      "Processing Record 408 : skibotn\n",
      "City not found. Skipping .....\n",
      "Processing Record 409 : talnakh\n",
      "Processing Record 410 : ossora\n",
      "Processing Record 411 : walvis bay\n",
      "Processing Record 412 : lompoc\n",
      "Processing Record 413 : aykino\n",
      "Processing Record 414 : elat\n",
      "Processing Record 415 : lorengau\n",
      "Processing Record 416 : launceston\n",
      "Processing Record 417 : honningsvag\n",
      "Processing Record 418 : santa ana\n",
      "Processing Record 419 : chimore\n",
      "Processing Record 420 : valparaiso\n",
      "Processing Record 421 : ambulu\n",
      "Processing Record 422 : tiksi\n",
      "Processing Record 423 : waipawa\n",
      "Processing Record 424 : domodossola\n",
      "Processing Record 425 : abashiri\n",
      "Processing Record 426 : suhbaatar\n",
      "Processing Record 427 : sabzevar\n",
      "City not found. Skipping .....\n",
      "Processing Record 428 : yumen\n",
      "Processing Record 429 : whitehaven\n",
      "Processing Record 430 : bata\n",
      "Processing Record 431 : tazmalt\n",
      "Processing Record 432 : konstantinovskiy\n",
      "Processing Record 433 : tiarei\n",
      "Processing Record 434 : dakar\n",
      "Processing Record 435 : warrnambool\n",
      "Processing Record 436 : qunduz\n",
      "Processing Record 437 : ogulin\n",
      "Processing Record 438 : geraldton\n",
      "Processing Record 439 : maine-soroa\n",
      "City not found. Skipping .....\n",
      "Processing Record 440 : christchurch\n",
      "Processing Record 441 : nome\n",
      "Processing Record 442 : virginia beach\n",
      "Processing Record 443 : sangin\n",
      "City not found. Skipping .....\n",
      "Processing Record 444 : ikalamavony\n",
      "Processing Record 445 : broome\n",
      "Processing Record 446 : malegaon\n",
      "Processing Record 447 : qui nhon\n",
      "Processing Record 448 : portel\n",
      "Processing Record 449 : ayr\n",
      "Processing Record 450 : nelson bay\n",
      "Processing Record 451 : maldonado\n",
      "Processing Record 452 : the valley\n",
      "City not found. Skipping .....\n",
      "Processing Record 453 : mangrol\n",
      "Processing Record 454 : high rock\n",
      "Processing Record 455 : cascas\n",
      "Processing Record 456 : arkhara\n"
     ]
    },
    {
     "name": "stdout",
     "output_type": "stream",
     "text": [
      "Processing Record 457 : verkhoyansk\n",
      "Processing Record 458 : kawalu\n",
      "Processing Record 459 : moron\n",
      "Processing Record 460 : antalaha\n",
      "Processing Record 461 : sernovodsk\n",
      "Processing Record 462 : keetmanshoop\n",
      "Processing Record 463 : boyolangu\n",
      "Processing Record 464 : burnie\n",
      "Processing Record 465 : henties bay\n",
      "Processing Record 466 : nurota\n",
      "Processing Record 467 : puerto palomas\n",
      "Processing Record 468 : voznesenskaya\n",
      "Processing Record 469 : najran\n",
      "Processing Record 470 : fukue\n",
      "Processing Record 471 : havre-saint-pierre\n",
      "Processing Record 472 : nosy varika\n",
      "Processing Record 473 : honolulu\n",
      "Processing Record 474 : buala\n",
      "Processing Record 475 : crossville\n",
      "Processing Record 476 : taupo\n",
      "Processing Record 477 : boddam\n",
      "Processing Record 478 : iberia\n",
      "Processing Record 479 : soe\n",
      "Processing Record 480 : rocha\n",
      "Processing Record 481 : primorsko-akhtarsk\n",
      "Processing Record 482 : khani\n",
      "Processing Record 483 : niederkassel\n",
      "Processing Record 484 : saint-joseph\n",
      "City not found. Skipping .....\n",
      "Processing Record 485 : oskaloosa\n",
      "Processing Record 486 : arbon\n",
      "Processing Record 487 : alihe\n",
      "City not found. Skipping .....\n",
      "Processing Record 488 : vao\n",
      "Processing Record 489 : ocean city\n",
      "Processing Record 490 : warrington\n",
      "Processing Record 491 : ilo\n",
      "Processing Record 492 : faya\n",
      "Processing Record 493 : san julian\n",
      "Processing Record 494 : arman\n",
      "City not found. Skipping .....\n",
      "Processing Record 495 : santa maria\n",
      "Processing Record 496 : atar\n",
      "Processing Record 497 : lebedinyy\n",
      "Processing Record 498 : sungairaya\n",
      "Processing Record 499 : makakilo city\n",
      "Processing Record 500 : luanda\n",
      "City not found. Skipping .....\n",
      "Processing Record 501 : batagay-alyta\n",
      "Processing Record 502 : wanning\n",
      "Processing Record 503 : kerur\n",
      "Processing Record 504 : morehead\n",
      "Processing Record 505 : abilene\n",
      "Processing Record 506 : vysokaya gora\n",
      "Processing Record 507 : siva\n",
      "Processing Record 508 : chara\n",
      "Processing Record 509 : la palma\n",
      "Processing Record 510 : perth\n",
      "Processing Record 511 : maceio\n",
      "Processing Record 512 : naravarikuppam\n",
      "Processing Record 513 : chifeng\n",
      "Processing Record 514 : samarai\n",
      "City not found. Skipping .....\n",
      "Processing Record 515 : pacific grove\n",
      "Processing Record 516 : fukuroi\n",
      "Processing Record 517 : sao francisco de assis\n",
      "Processing Record 518 : zaysan\n",
      "Processing Record 519 : esso\n",
      "Processing Record 520 : leshukonskoye\n",
      "Processing Record 521 : lagoa\n",
      "Processing Record 522 : beboto\n",
      "Processing Record 523 : lobito\n",
      "Processing Record 524 : esperance\n",
      "Processing Record 525 : mackay\n",
      "Processing Record 526 : tete\n",
      "Processing Record 527 : tura\n",
      "Processing Record 528 : parkersburg\n",
      "Processing Record 529 : abha\n",
      "Processing Record 530 : kahului\n",
      "Processing Record 531 : bryanka\n",
      "Processing Record 532 : mareeba\n",
      "Processing Record 533 : porbandar\n",
      "Processing Record 534 : lexington\n",
      "Processing Record 535 : monte santo\n",
      "City not found. Skipping .....\n",
      "Processing Record 536 : marystown\n",
      "Processing Record 537 : opunake\n",
      "Processing Record 538 : lavrentiya\n",
      "Processing Record 539 : richards bay\n",
      "Processing Record 540 : graaff-reinet\n",
      "Processing Record 541 : ketchikan\n",
      "Processing Record 542 : sao jose da coroa grande\n",
      "Processing Record 543 : beringovskiy\n",
      "Processing Record 544 : mozarlandia\n",
      "Processing Record 545 : ambilobe\n",
      "City not found. Skipping .....\n",
      "Processing Record 546 : necochea\n",
      "Processing Record 547 : saravan\n",
      "Processing Record 548 : colares\n",
      "Processing Record 549 : rundu\n",
      "Processing Record 550 : nicolas bravo\n",
      "Processing Record 551 : labuan\n",
      "Processing Record 552 : mogadishu\n",
      "Processing Record 553 : san blas\n",
      "Processing Record 554 : xinzhi\n",
      "City not found. Skipping .....\n",
      "Processing Record 555 : tateyama\n",
      "Processing Record 556 : kharhial\n",
      "Processing Record 557 : barcelos\n",
      "Processing Record 558 : hambantota\n",
      "Processing Record 559 : quelimane\n",
      "Processing Record 560 : intipuca\n",
      "Processing Record 561 : isangel\n",
      "Processing Record 562 : port blair\n",
      "Processing Record 563 : pokhara\n",
      "Processing Record 564 : varkkallai\n",
      "Processing Record 565 : fereydun kenar\n",
      "Processing Record 566 : anloga\n"
     ]
    }
   ],
   "source": [
    "# Define Variables\n",
    "\n",
    "city_name_list = []\n",
    "city_id_list = []\n",
    "cloudiness_list = []\n",
    "date_list = []\n",
    "country_list = []\n",
    "date_list = []\n",
    "humidity_list = []\n",
    "lat_list = []\n",
    "lon_list = []\n",
    "date_temp_list = []\n",
    "max_temp_list = []\n",
    "wind_speed_list = []\n",
    "\n",
    "index_counter = 0\n",
    "\n",
    "url = \"http://api.openweathermap.org/data/2.5/weather?\"\n",
    "units = \"metric\"\n",
    "\n",
    "#query_url\n",
    "query_url = f\"{url}appid={weather_api_key}&units={units}&q=\"\n",
    "\n",
    "\n",
    "for index, city in enumerate(cities, start = 1):\n",
    "    try:\n",
    "        response = requests.get(query_url + city).json()\n",
    "        \n",
    "        \n",
    "        \n",
    "        city_name_list.append(response[\"name\"])\n",
    "        city_id_list.append(response[\"id\"])\n",
    "        cloudiness_list.append(response[\"clouds\"][\"all\"])\n",
    "        country_list.append(response[\"sys\"][\"country\"])\n",
    "        date_list.append(response[\"dt\"])\n",
    "        humidity_list.append(response[\"main\"][\"humidity\"])\n",
    "        lat_list.append(response[\"coord\"][\"lat\"])\n",
    "        lon_list.append(response[\"coord\"][\"lon\"])\n",
    "        date_temp_list.append(response['main']['temp'])\n",
    "        max_temp_list.append(response['main']['temp_max'])\n",
    "        wind_speed_list.append(response[\"wind\"][\"speed\"])\n",
    "        \n",
    "        index_counter = index_counter + 1\n",
    "        \n",
    "        print(f\"Processing Record {index_counter} : {city}\")\n",
    "        \n",
    "    except(KeyError, IndexError):\n",
    "            \n",
    "        print(\"City not found. Skipping .....\")\n",
    "            \n",
    "        pass\n",
    "            \n",
    "        \n",
    "        "
   ]
  },
  {
   "cell_type": "markdown",
   "metadata": {},
   "source": [
    "### Convert Raw Data to DataFrame\n",
    "* Export the city data into a .csv.\n",
    "* Display the DataFrame"
   ]
  },
  {
   "cell_type": "code",
   "execution_count": 12,
   "metadata": {},
   "outputs": [
    {
     "data": {
      "text/html": [
       "<div>\n",
       "<style scoped>\n",
       "    .dataframe tbody tr th:only-of-type {\n",
       "        vertical-align: middle;\n",
       "    }\n",
       "\n",
       "    .dataframe tbody tr th {\n",
       "        vertical-align: top;\n",
       "    }\n",
       "\n",
       "    .dataframe thead th {\n",
       "        text-align: right;\n",
       "    }\n",
       "</style>\n",
       "<table border=\"1\" class=\"dataframe\">\n",
       "  <thead>\n",
       "    <tr style=\"text-align: right;\">\n",
       "      <th></th>\n",
       "      <th>city</th>\n",
       "      <th>City ID</th>\n",
       "      <th>Country</th>\n",
       "      <th>Latitude</th>\n",
       "      <th>Longitude</th>\n",
       "      <th>Date</th>\n",
       "      <th>Cloudiness</th>\n",
       "      <th>Humidity</th>\n",
       "      <th>Temperature at Date</th>\n",
       "      <th>Max Temp to Date</th>\n",
       "      <th>Wind Speed</th>\n",
       "    </tr>\n",
       "  </thead>\n",
       "  <tbody>\n",
       "    <tr>\n",
       "      <th>0</th>\n",
       "      <td>Bushehr</td>\n",
       "      <td>139817</td>\n",
       "      <td>IR</td>\n",
       "      <td>28.97</td>\n",
       "      <td>50.84</td>\n",
       "      <td>1603515172</td>\n",
       "      <td>0</td>\n",
       "      <td>57</td>\n",
       "      <td>24.00</td>\n",
       "      <td>24.00</td>\n",
       "      <td>2.25</td>\n",
       "    </tr>\n",
       "    <tr>\n",
       "      <th>1</th>\n",
       "      <td>Atuona</td>\n",
       "      <td>4020109</td>\n",
       "      <td>PF</td>\n",
       "      <td>-9.80</td>\n",
       "      <td>-139.03</td>\n",
       "      <td>1603514922</td>\n",
       "      <td>1</td>\n",
       "      <td>77</td>\n",
       "      <td>25.83</td>\n",
       "      <td>25.83</td>\n",
       "      <td>8.37</td>\n",
       "    </tr>\n",
       "    <tr>\n",
       "      <th>2</th>\n",
       "      <td>Dongsheng</td>\n",
       "      <td>1812256</td>\n",
       "      <td>CN</td>\n",
       "      <td>39.82</td>\n",
       "      <td>109.98</td>\n",
       "      <td>1603515173</td>\n",
       "      <td>58</td>\n",
       "      <td>39</td>\n",
       "      <td>12.45</td>\n",
       "      <td>12.45</td>\n",
       "      <td>6.63</td>\n",
       "    </tr>\n",
       "    <tr>\n",
       "      <th>3</th>\n",
       "      <td>Ponta do Sol</td>\n",
       "      <td>2264557</td>\n",
       "      <td>PT</td>\n",
       "      <td>32.67</td>\n",
       "      <td>-17.10</td>\n",
       "      <td>1603515092</td>\n",
       "      <td>40</td>\n",
       "      <td>63</td>\n",
       "      <td>15.85</td>\n",
       "      <td>18.00</td>\n",
       "      <td>4.10</td>\n",
       "    </tr>\n",
       "    <tr>\n",
       "      <th>4</th>\n",
       "      <td>Laas</td>\n",
       "      <td>3175096</td>\n",
       "      <td>IT</td>\n",
       "      <td>46.62</td>\n",
       "      <td>10.70</td>\n",
       "      <td>1603515173</td>\n",
       "      <td>90</td>\n",
       "      <td>100</td>\n",
       "      <td>8.80</td>\n",
       "      <td>11.11</td>\n",
       "      <td>1.27</td>\n",
       "    </tr>\n",
       "    <tr>\n",
       "      <th>...</th>\n",
       "      <td>...</td>\n",
       "      <td>...</td>\n",
       "      <td>...</td>\n",
       "      <td>...</td>\n",
       "      <td>...</td>\n",
       "      <td>...</td>\n",
       "      <td>...</td>\n",
       "      <td>...</td>\n",
       "      <td>...</td>\n",
       "      <td>...</td>\n",
       "      <td>...</td>\n",
       "    </tr>\n",
       "    <tr>\n",
       "      <th>561</th>\n",
       "      <td>Port Blair</td>\n",
       "      <td>1259385</td>\n",
       "      <td>IN</td>\n",
       "      <td>11.67</td>\n",
       "      <td>92.75</td>\n",
       "      <td>1603515298</td>\n",
       "      <td>44</td>\n",
       "      <td>72</td>\n",
       "      <td>29.42</td>\n",
       "      <td>29.42</td>\n",
       "      <td>4.66</td>\n",
       "    </tr>\n",
       "    <tr>\n",
       "      <th>562</th>\n",
       "      <td>Pokhara</td>\n",
       "      <td>1282898</td>\n",
       "      <td>NP</td>\n",
       "      <td>28.23</td>\n",
       "      <td>83.98</td>\n",
       "      <td>1603515298</td>\n",
       "      <td>0</td>\n",
       "      <td>36</td>\n",
       "      <td>26.45</td>\n",
       "      <td>26.45</td>\n",
       "      <td>1.89</td>\n",
       "    </tr>\n",
       "    <tr>\n",
       "      <th>563</th>\n",
       "      <td>Varkala</td>\n",
       "      <td>1253392</td>\n",
       "      <td>IN</td>\n",
       "      <td>8.73</td>\n",
       "      <td>76.71</td>\n",
       "      <td>1603515298</td>\n",
       "      <td>20</td>\n",
       "      <td>62</td>\n",
       "      <td>31.00</td>\n",
       "      <td>31.00</td>\n",
       "      <td>3.10</td>\n",
       "    </tr>\n",
       "    <tr>\n",
       "      <th>564</th>\n",
       "      <td>Fereydūnkenār</td>\n",
       "      <td>134602</td>\n",
       "      <td>IR</td>\n",
       "      <td>36.69</td>\n",
       "      <td>52.52</td>\n",
       "      <td>1603515299</td>\n",
       "      <td>40</td>\n",
       "      <td>87</td>\n",
       "      <td>15.00</td>\n",
       "      <td>15.00</td>\n",
       "      <td>1.00</td>\n",
       "    </tr>\n",
       "    <tr>\n",
       "      <th>565</th>\n",
       "      <td>Anloga</td>\n",
       "      <td>2304548</td>\n",
       "      <td>GH</td>\n",
       "      <td>5.79</td>\n",
       "      <td>0.90</td>\n",
       "      <td>1603515052</td>\n",
       "      <td>20</td>\n",
       "      <td>88</td>\n",
       "      <td>26.00</td>\n",
       "      <td>26.00</td>\n",
       "      <td>3.10</td>\n",
       "    </tr>\n",
       "  </tbody>\n",
       "</table>\n",
       "<p>566 rows × 11 columns</p>\n",
       "</div>"
      ],
      "text/plain": [
       "              city  City ID Country  Latitude  Longitude        Date  \\\n",
       "0          Bushehr   139817      IR     28.97      50.84  1603515172   \n",
       "1           Atuona  4020109      PF     -9.80    -139.03  1603514922   \n",
       "2        Dongsheng  1812256      CN     39.82     109.98  1603515173   \n",
       "3     Ponta do Sol  2264557      PT     32.67     -17.10  1603515092   \n",
       "4             Laas  3175096      IT     46.62      10.70  1603515173   \n",
       "..             ...      ...     ...       ...        ...         ...   \n",
       "561     Port Blair  1259385      IN     11.67      92.75  1603515298   \n",
       "562        Pokhara  1282898      NP     28.23      83.98  1603515298   \n",
       "563        Varkala  1253392      IN      8.73      76.71  1603515298   \n",
       "564  Fereydūnkenār   134602      IR     36.69      52.52  1603515299   \n",
       "565         Anloga  2304548      GH      5.79       0.90  1603515052   \n",
       "\n",
       "     Cloudiness  Humidity  Temperature at Date  Max Temp to Date  Wind Speed  \n",
       "0             0        57                24.00             24.00        2.25  \n",
       "1             1        77                25.83             25.83        8.37  \n",
       "2            58        39                12.45             12.45        6.63  \n",
       "3            40        63                15.85             18.00        4.10  \n",
       "4            90       100                 8.80             11.11        1.27  \n",
       "..          ...       ...                  ...               ...         ...  \n",
       "561          44        72                29.42             29.42        4.66  \n",
       "562           0        36                26.45             26.45        1.89  \n",
       "563          20        62                31.00             31.00        3.10  \n",
       "564          40        87                15.00             15.00        1.00  \n",
       "565          20        88                26.00             26.00        3.10  \n",
       "\n",
       "[566 rows x 11 columns]"
      ]
     },
     "execution_count": 12,
     "metadata": {},
     "output_type": "execute_result"
    }
   ],
   "source": [
    "weather_check = pd.DataFrame({\"city\" : city_name_list, \"City ID\" : city_id_list, \"Country\" : country_list, \"Latitude\" : lat_list,\n",
    "                             \"Longitude\" : lon_list, \"Date\" : date_list, \"Cloudiness\" : cloudiness_list, \"Humidity\" : humidity_list,\n",
    "                             \"Temperature at Date\" : date_temp_list, \"Max Temp to Date\" : max_temp_list, \"Wind Speed\" : wind_speed_list})\n",
    "\n",
    "weather_check"
   ]
  },
  {
   "cell_type": "code",
   "execution_count": null,
   "metadata": {},
   "outputs": [],
   "source": []
  },
  {
   "cell_type": "markdown",
   "metadata": {},
   "source": [
    "## Inspect the data and remove the cities where the humidity > 100%.\n",
    "----\n",
    "Skip this step if there are no cities that have humidity > 100%. "
   ]
  },
  {
   "cell_type": "code",
   "execution_count": 13,
   "metadata": {},
   "outputs": [
    {
     "data": {
      "text/html": [
       "<div>\n",
       "<style scoped>\n",
       "    .dataframe tbody tr th:only-of-type {\n",
       "        vertical-align: middle;\n",
       "    }\n",
       "\n",
       "    .dataframe tbody tr th {\n",
       "        vertical-align: top;\n",
       "    }\n",
       "\n",
       "    .dataframe thead th {\n",
       "        text-align: right;\n",
       "    }\n",
       "</style>\n",
       "<table border=\"1\" class=\"dataframe\">\n",
       "  <thead>\n",
       "    <tr style=\"text-align: right;\">\n",
       "      <th></th>\n",
       "      <th>city</th>\n",
       "      <th>City ID</th>\n",
       "      <th>Country</th>\n",
       "      <th>Latitude</th>\n",
       "      <th>Longitude</th>\n",
       "      <th>Date</th>\n",
       "      <th>Cloudiness</th>\n",
       "      <th>Humidity</th>\n",
       "      <th>Temperature at Date</th>\n",
       "      <th>Max Temp to Date</th>\n",
       "      <th>Wind Speed</th>\n",
       "    </tr>\n",
       "  </thead>\n",
       "  <tbody>\n",
       "    <tr>\n",
       "      <th>0</th>\n",
       "      <td>Bushehr</td>\n",
       "      <td>139817</td>\n",
       "      <td>IR</td>\n",
       "      <td>28.97</td>\n",
       "      <td>50.84</td>\n",
       "      <td>1603515172</td>\n",
       "      <td>0</td>\n",
       "      <td>57</td>\n",
       "      <td>24.00</td>\n",
       "      <td>24.00</td>\n",
       "      <td>2.25</td>\n",
       "    </tr>\n",
       "    <tr>\n",
       "      <th>1</th>\n",
       "      <td>Atuona</td>\n",
       "      <td>4020109</td>\n",
       "      <td>PF</td>\n",
       "      <td>-9.80</td>\n",
       "      <td>-139.03</td>\n",
       "      <td>1603514922</td>\n",
       "      <td>1</td>\n",
       "      <td>77</td>\n",
       "      <td>25.83</td>\n",
       "      <td>25.83</td>\n",
       "      <td>8.37</td>\n",
       "    </tr>\n",
       "    <tr>\n",
       "      <th>2</th>\n",
       "      <td>Dongsheng</td>\n",
       "      <td>1812256</td>\n",
       "      <td>CN</td>\n",
       "      <td>39.82</td>\n",
       "      <td>109.98</td>\n",
       "      <td>1603515173</td>\n",
       "      <td>58</td>\n",
       "      <td>39</td>\n",
       "      <td>12.45</td>\n",
       "      <td>12.45</td>\n",
       "      <td>6.63</td>\n",
       "    </tr>\n",
       "    <tr>\n",
       "      <th>3</th>\n",
       "      <td>Ponta do Sol</td>\n",
       "      <td>2264557</td>\n",
       "      <td>PT</td>\n",
       "      <td>32.67</td>\n",
       "      <td>-17.10</td>\n",
       "      <td>1603515092</td>\n",
       "      <td>40</td>\n",
       "      <td>63</td>\n",
       "      <td>15.85</td>\n",
       "      <td>18.00</td>\n",
       "      <td>4.10</td>\n",
       "    </tr>\n",
       "    <tr>\n",
       "      <th>4</th>\n",
       "      <td>Laas</td>\n",
       "      <td>3175096</td>\n",
       "      <td>IT</td>\n",
       "      <td>46.62</td>\n",
       "      <td>10.70</td>\n",
       "      <td>1603515173</td>\n",
       "      <td>90</td>\n",
       "      <td>100</td>\n",
       "      <td>8.80</td>\n",
       "      <td>11.11</td>\n",
       "      <td>1.27</td>\n",
       "    </tr>\n",
       "    <tr>\n",
       "      <th>...</th>\n",
       "      <td>...</td>\n",
       "      <td>...</td>\n",
       "      <td>...</td>\n",
       "      <td>...</td>\n",
       "      <td>...</td>\n",
       "      <td>...</td>\n",
       "      <td>...</td>\n",
       "      <td>...</td>\n",
       "      <td>...</td>\n",
       "      <td>...</td>\n",
       "      <td>...</td>\n",
       "    </tr>\n",
       "    <tr>\n",
       "      <th>561</th>\n",
       "      <td>Port Blair</td>\n",
       "      <td>1259385</td>\n",
       "      <td>IN</td>\n",
       "      <td>11.67</td>\n",
       "      <td>92.75</td>\n",
       "      <td>1603515298</td>\n",
       "      <td>44</td>\n",
       "      <td>72</td>\n",
       "      <td>29.42</td>\n",
       "      <td>29.42</td>\n",
       "      <td>4.66</td>\n",
       "    </tr>\n",
       "    <tr>\n",
       "      <th>562</th>\n",
       "      <td>Pokhara</td>\n",
       "      <td>1282898</td>\n",
       "      <td>NP</td>\n",
       "      <td>28.23</td>\n",
       "      <td>83.98</td>\n",
       "      <td>1603515298</td>\n",
       "      <td>0</td>\n",
       "      <td>36</td>\n",
       "      <td>26.45</td>\n",
       "      <td>26.45</td>\n",
       "      <td>1.89</td>\n",
       "    </tr>\n",
       "    <tr>\n",
       "      <th>563</th>\n",
       "      <td>Varkala</td>\n",
       "      <td>1253392</td>\n",
       "      <td>IN</td>\n",
       "      <td>8.73</td>\n",
       "      <td>76.71</td>\n",
       "      <td>1603515298</td>\n",
       "      <td>20</td>\n",
       "      <td>62</td>\n",
       "      <td>31.00</td>\n",
       "      <td>31.00</td>\n",
       "      <td>3.10</td>\n",
       "    </tr>\n",
       "    <tr>\n",
       "      <th>564</th>\n",
       "      <td>Fereydūnkenār</td>\n",
       "      <td>134602</td>\n",
       "      <td>IR</td>\n",
       "      <td>36.69</td>\n",
       "      <td>52.52</td>\n",
       "      <td>1603515299</td>\n",
       "      <td>40</td>\n",
       "      <td>87</td>\n",
       "      <td>15.00</td>\n",
       "      <td>15.00</td>\n",
       "      <td>1.00</td>\n",
       "    </tr>\n",
       "    <tr>\n",
       "      <th>565</th>\n",
       "      <td>Anloga</td>\n",
       "      <td>2304548</td>\n",
       "      <td>GH</td>\n",
       "      <td>5.79</td>\n",
       "      <td>0.90</td>\n",
       "      <td>1603515052</td>\n",
       "      <td>20</td>\n",
       "      <td>88</td>\n",
       "      <td>26.00</td>\n",
       "      <td>26.00</td>\n",
       "      <td>3.10</td>\n",
       "    </tr>\n",
       "  </tbody>\n",
       "</table>\n",
       "<p>566 rows × 11 columns</p>\n",
       "</div>"
      ],
      "text/plain": [
       "              city  City ID Country  Latitude  Longitude        Date  \\\n",
       "0          Bushehr   139817      IR     28.97      50.84  1603515172   \n",
       "1           Atuona  4020109      PF     -9.80    -139.03  1603514922   \n",
       "2        Dongsheng  1812256      CN     39.82     109.98  1603515173   \n",
       "3     Ponta do Sol  2264557      PT     32.67     -17.10  1603515092   \n",
       "4             Laas  3175096      IT     46.62      10.70  1603515173   \n",
       "..             ...      ...     ...       ...        ...         ...   \n",
       "561     Port Blair  1259385      IN     11.67      92.75  1603515298   \n",
       "562        Pokhara  1282898      NP     28.23      83.98  1603515298   \n",
       "563        Varkala  1253392      IN      8.73      76.71  1603515298   \n",
       "564  Fereydūnkenār   134602      IR     36.69      52.52  1603515299   \n",
       "565         Anloga  2304548      GH      5.79       0.90  1603515052   \n",
       "\n",
       "     Cloudiness  Humidity  Temperature at Date  Max Temp to Date  Wind Speed  \n",
       "0             0        57                24.00             24.00        2.25  \n",
       "1             1        77                25.83             25.83        8.37  \n",
       "2            58        39                12.45             12.45        6.63  \n",
       "3            40        63                15.85             18.00        4.10  \n",
       "4            90       100                 8.80             11.11        1.27  \n",
       "..          ...       ...                  ...               ...         ...  \n",
       "561          44        72                29.42             29.42        4.66  \n",
       "562           0        36                26.45             26.45        1.89  \n",
       "563          20        62                31.00             31.00        3.10  \n",
       "564          40        87                15.00             15.00        1.00  \n",
       "565          20        88                26.00             26.00        3.10  \n",
       "\n",
       "[566 rows x 11 columns]"
      ]
     },
     "execution_count": 13,
     "metadata": {},
     "output_type": "execute_result"
    }
   ],
   "source": [
    "humidity_less_than_100 = weather_check.loc[(weather_check[\"Humidity\"] <= 100)]\n",
    "\n",
    "humidity_less_than_100"
   ]
  },
  {
   "cell_type": "code",
   "execution_count": 14,
   "metadata": {},
   "outputs": [
    {
     "data": {
      "text/html": [
       "<div>\n",
       "<style scoped>\n",
       "    .dataframe tbody tr th:only-of-type {\n",
       "        vertical-align: middle;\n",
       "    }\n",
       "\n",
       "    .dataframe tbody tr th {\n",
       "        vertical-align: top;\n",
       "    }\n",
       "\n",
       "    .dataframe thead th {\n",
       "        text-align: right;\n",
       "    }\n",
       "</style>\n",
       "<table border=\"1\" class=\"dataframe\">\n",
       "  <thead>\n",
       "    <tr style=\"text-align: right;\">\n",
       "      <th></th>\n",
       "      <th>city</th>\n",
       "      <th>City ID</th>\n",
       "      <th>Country</th>\n",
       "      <th>Latitude</th>\n",
       "      <th>Longitude</th>\n",
       "      <th>Date</th>\n",
       "      <th>Cloudiness</th>\n",
       "      <th>Humidity</th>\n",
       "      <th>Temperature at Date</th>\n",
       "      <th>Max Temp to Date</th>\n",
       "      <th>Wind Speed</th>\n",
       "    </tr>\n",
       "  </thead>\n",
       "  <tbody>\n",
       "  </tbody>\n",
       "</table>\n",
       "</div>"
      ],
      "text/plain": [
       "Empty DataFrame\n",
       "Columns: [city, City ID, Country, Latitude, Longitude, Date, Cloudiness, Humidity, Temperature at Date, Max Temp to Date, Wind Speed]\n",
       "Index: []"
      ]
     },
     "execution_count": 14,
     "metadata": {},
     "output_type": "execute_result"
    }
   ],
   "source": [
    "#  Get the indices of cities that have humidity over 100%.\n",
    "humidity_more_than_100 = weather_check.loc[(weather_check[\"Humidity\"] > 100)]\n",
    "\n",
    "humidity_more_than_100"
   ]
  },
  {
   "cell_type": "code",
   "execution_count": 15,
   "metadata": {},
   "outputs": [],
   "source": [
    "# Make a new DataFrame equal to the city data to drop all humidity outliers by index.\n",
    "# Passing \"inplace=False\" will make a copy of the city_data DataFrame, which we call \"clean_city_data\".\n",
    "\n",
    "\n",
    "quartiles = humidity_less_than_100[\"Humidity\"].quantile([.25, .5, .75])\n",
    "lowerq = quartiles[0.25]\n",
    "upperq = quartiles[0.75]\n",
    "iqr = upperq - lowerq\n",
    "\n",
    "lower_bound = lowerq - (1.5*iqr)\n",
    "upper_bound = upperq + (1.5*iqr)\n",
    "\n",
    "clean_city_data = humidity_less_than_100 = weather_check.loc[(weather_check[\"Humidity\"] > lower_bound)\n",
    "                                                             |(weather_check[\"Humidity\"] < upper_bound) ]\n",
    "\n",
    "clean_city_data\n",
    "\n",
    "# export into csv file\n",
    "\n",
    "clean_city_data.to_csv(\"output_data/cities.csv\", index = False, header = True)\n",
    "\n"
   ]
  },
  {
   "cell_type": "code",
   "execution_count": null,
   "metadata": {},
   "outputs": [],
   "source": [
    "\n"
   ]
  },
  {
   "cell_type": "markdown",
   "metadata": {},
   "source": [
    "## Plotting the Data\n",
    "* Use proper labeling of the plots using plot titles (including date of analysis) and axes labels.\n",
    "* Save the plotted figures as .pngs."
   ]
  },
  {
   "cell_type": "markdown",
   "metadata": {},
   "source": [
    "## Latitude vs. Temperature Plot"
   ]
  },
  {
   "cell_type": "code",
   "execution_count": 16,
   "metadata": {
    "scrolled": true
   },
   "outputs": [
    {
     "data": {
      "image/png": "[encoded data removed]",
      "text/plain": [
       "<Figure size 432x288 with 1 Axes>"
      ]
     },
     "metadata": {
      "needs_background": "light"
     },
     "output_type": "display_data"
    }
   ],
   "source": [
    "plt.scatter(clean_city_data[\"Latitude\"], clean_city_data[\"Max Temp to Date\"], marker = \"o\", facecolor =\"navy\", edgecolor = \"black\")\n",
    "plt.title(\"City Latitude vs. Max Temperature (%s)  on 10/23/2020\")\n",
    "plt.xlabel(\"Latitude\")\n",
    "plt.ylabel(\"Max Temperature (F)\")\n",
    "plt.grid()\n",
    "plt.savefig(\"output_Data/Images/temperature.png\")\n",
    "plt.show()"
   ]
  },
  {
   "cell_type": "markdown",
   "metadata": {},
   "source": [
    "## Latitude vs. Humidity Plot"
   ]
  },
  {
   "cell_type": "code",
   "execution_count": 17,
   "metadata": {},
   "outputs": [
    {
     "data": {
      "image/png": "[encoded data removed]",
      "text/plain": [
       "<Figure size 432x288 with 1 Axes>"
      ]
     },
     "metadata": {
      "needs_background": "light"
     },
     "output_type": "display_data"
    }
   ],
   "source": [
    "plt.scatter(clean_city_data[\"Latitude\"], clean_city_data[\"Humidity\"], marker = \"o\", facecolor =\"navy\", edgecolor = \"black\")\n",
    "plt.title(\"City Latitude vs. Humidity (%s)  on 10/23/2020\")\n",
    "plt.xlabel(\"Latitude\")\n",
    "plt.ylabel(\"Max Temperature (F)\")\n",
    "plt.grid()\n",
    "plt.savefig(\"output_Data/Images/humidity.png\")\n",
    "plt.show()"
   ]
  },
  {
   "cell_type": "markdown",
   "metadata": {},
   "source": [
    "## Latitude vs. Cloudiness Plot"
   ]
  },
  {
   "cell_type": "code",
   "execution_count": 18,
   "metadata": {},
   "outputs": [
    {
     "data": {
      "image/png": "[encoded data removed]",
      "text/plain": [
       "<Figure size 432x288 with 1 Axes>"
      ]
     },
     "metadata": {
      "needs_background": "light"
     },
     "output_type": "display_data"
    }
   ],
   "source": [
    "plt.scatter(clean_city_data[\"Latitude\"], clean_city_data[\"Cloudiness\"], marker = \"o\", facecolor =\"navy\", edgecolor = \"black\")\n",
    "plt.title(\"City Latitude vs. Cloudiness (%s)  on 10/23/2020\")\n",
    "plt.xlabel(\"Latitude\")\n",
    "plt.ylabel(\"Max Temperature (F)\")\n",
    "plt.grid()\n",
    "plt.savefig(\"output_Data/Images/cloudiness.png\")\n",
    "plt.show()"
   ]
  },
  {
   "cell_type": "markdown",
   "metadata": {},
   "source": [
    "## Latitude vs. Wind Speed Plot"
   ]
  },
  {
   "cell_type": "code",
   "execution_count": 19,
   "metadata": {},
   "outputs": [
    {
     "data": {
      "image/png": "[encoded data removed]",
      "text/plain": [
       "<Figure size 432x288 with 1 Axes>"
      ]
     },
     "metadata": {
      "needs_background": "light"
     },
     "output_type": "display_data"
    }
   ],
   "source": [
    "plt.scatter(clean_city_data[\"Latitude\"], clean_city_data[\"Wind Speed\"], marker = \"o\", facecolor =\"navy\", edgecolor = \"black\")\n",
    "plt.title(\"City Latitude vs. Wind Speed (%s)  on 10/23/2020\")\n",
    "plt.xlabel(\"Latitude\")\n",
    "plt.ylabel(\"Max Temperature (F)\")\n",
    "plt.grid()\n",
    "plt.savefig(\"output_Data/Images/wind_speed.png\")\n",
    "plt.show()"
   ]
  },
  {
   "cell_type": "markdown",
   "metadata": {},
   "source": [
    "## Linear Regression"
   ]
  },
  {
   "cell_type": "code",
   "execution_count": 20,
   "metadata": {},
   "outputs": [],
   "source": [
    "# Northern and Southern Hemisphere DataFrames\n",
    "\n",
    "northern_hemisphere = clean_city_data.loc[clean_city_data[\"Latitude\"] >=0,:]\n",
    "southern_hemisphere = clean_city_data.loc[clean_city_data[\"Latitude\"] < 0,:]"
   ]
  },
  {
   "cell_type": "code",
   "execution_count": 21,
   "metadata": {},
   "outputs": [],
   "source": [
    "# Define function for creating linear regression and scatter plot\n",
    "def linear_agression(x,y):\n",
    "    print(f\"The r-squared is : {round(st.pearsonr(x, y)[0],2)}\")\n",
    "    (slope, intercept, rvalue, pvalue, stderr) = linregress(x, y)\n",
    "    regress_values = x * slope + intercept\n",
    "    line_eq = \"y = \" + str(round(slope,2)) + \"x + \" + str(round(intercept,2))\n",
    "    plt.scatter(x, y)\n",
    "    plt.plot(x,regress_values,\"r-\")\n",
    "    return line_eq\n",
    "\n",
    "# funtion for annotation\n",
    "\n",
    "def annotate(line_eq, a, b):\n",
    "    plt.annotate(line_eq,(a,b),fontsize=15,color=\"red\")"
   ]
  },
  {
   "cell_type": "markdown",
   "metadata": {},
   "source": [
    "####  Northern Hemisphere - Max Temp vs. Latitude Linear Regression"
   ]
  },
  {
   "cell_type": "code",
   "execution_count": 22,
   "metadata": {},
   "outputs": [
    {
     "name": "stdout",
     "output_type": "stream",
     "text": [
      "The r-squared is : -0.9\n"
     ]
    },
    {
     "data": {
      "image/png": "[encoded data removed]",
      "text/plain": [
       "<Figure size 432x288 with 1 Axes>"
      ]
     },
     "metadata": {
      "needs_background": "light"
     },
     "output_type": "display_data"
    }
   ],
   "source": [
    "\n",
    "# function #1\n",
    "\n",
    "equation = linear_agression(northern_hemisphere[\"Latitude\"], northern_hemisphere[\"Max Temp to Date\"])\n",
    "\n",
    "# annotate function\n",
    "\n",
    "annotate(equation, 0, 0)\n",
    "\n",
    "#Title\n",
    "\n",
    "plt.title(\"Northern Hemisphere - Max Temp vs, Latitude Linear Regression\")\n",
    "\n",
    "#set x label\n",
    "\n",
    "plt.xlabel(\"Latitude\")\n",
    "\n",
    "#set y label\n",
    "\n",
    "plt.ylabel(\"Max Temp (F)\")\n",
    "\n",
    "# save fig \n",
    "\n",
    "plt.savefig(\"output_data/Images/NorthHem_MaxTempVsLatLinearRegression.png\")"
   ]
  },
  {
   "cell_type": "markdown",
   "metadata": {},
   "source": [
    "####  Southern Hemisphere - Max Temp vs. Latitude Linear Regression"
   ]
  },
  {
   "cell_type": "code",
   "execution_count": 23,
   "metadata": {},
   "outputs": [
    {
     "name": "stdout",
     "output_type": "stream",
     "text": [
      "The r-squared is : 0.65\n"
     ]
    },
    {
     "data": {
      "image/png": "[encoded data removed]",
      "text/plain": [
       "<Figure size 432x288 with 1 Axes>"
      ]
     },
     "metadata": {
      "needs_background": "light"
     },
     "output_type": "display_data"
    }
   ],
   "source": [
    "# function #1\n",
    "\n",
    "equation = linear_agression(southern_hemisphere[\"Latitude\"], southern_hemisphere[\"Max Temp to Date\"])\n",
    "\n",
    "# annotate function\n",
    "\n",
    "annotate(equation, -30, 50)\n",
    "\n",
    "#Title\n",
    "\n",
    "plt.title(\"Southern Hemisphere - Max Temp vs, Latitude Linear Regression\")\n",
    "\n",
    "#set x label\n",
    "\n",
    "plt.xlabel(\"Latitude\")\n",
    "\n",
    "#set y label\n",
    "\n",
    "plt.ylabel(\"Max Temp (F)\")\n",
    "\n",
    "# save fig \n",
    "\n",
    "plt.savefig(\"output_data/Images/SouthHem_MaxTempVsLatLinearRegression.png\")"
   ]
  },
  {
   "cell_type": "markdown",
   "metadata": {},
   "source": [
    "####  Northern Hemisphere - Humidity (%) vs. Latitude Linear Regression"
   ]
  },
  {
   "cell_type": "code",
   "execution_count": 24,
   "metadata": {},
   "outputs": [
    {
     "name": "stdout",
     "output_type": "stream",
     "text": [
      "The r-squared is : 0.34\n"
     ]
    },
    {
     "data": {
      "image/png": "[encoded data removed]",
      "text/plain": [
       "<Figure size 432x288 with 1 Axes>"
      ]
     },
     "metadata": {
      "needs_background": "light"
     },
     "output_type": "display_data"
    }
   ],
   "source": [
    "# function #1\n",
    "\n",
    "equation = linear_agression(northern_hemisphere[\"Latitude\"], northern_hemisphere[\"Humidity\"])\n",
    "\n",
    "# annotate function\n",
    "\n",
    "annotate(equation, 0, 0)\n",
    "\n",
    "#Title\n",
    "\n",
    "plt.title(\"Northern Hemisphere - Humidity (%) vs, Latitude Linear Regression\")\n",
    "\n",
    "#set x label\n",
    "\n",
    "plt.xlabel(\"Latitude\")\n",
    "\n",
    "#set y label\n",
    "\n",
    "plt.ylabel(\"HUmidity (%)\")\n",
    "\n",
    "# save fig \n",
    "\n",
    "plt.savefig(\"output_data/Images/NorthHem_HumidityVsLatLinearRegression.png\")"
   ]
  },
  {
   "cell_type": "markdown",
   "metadata": {},
   "source": [
    "####  Southern Hemisphere - Humidity (%) vs. Latitude Linear Regression"
   ]
  },
  {
   "cell_type": "code",
   "execution_count": 25,
   "metadata": {},
   "outputs": [
    {
     "name": "stdout",
     "output_type": "stream",
     "text": [
      "The r-squared is : 0.03\n"
     ]
    },
    {
     "data": {
      "image/png": "[encoded data removed]",
      "text/plain": [
       "<Figure size 432x288 with 1 Axes>"
      ]
     },
     "metadata": {
      "needs_background": "light"
     },
     "output_type": "display_data"
    }
   ],
   "source": [
    "# function #1\n",
    "\n",
    "equation = linear_agression(southern_hemisphere[\"Latitude\"], southern_hemisphere[\"Humidity\"])\n",
    "\n",
    "# annotate function\n",
    "\n",
    "annotate(equation, -40, 50)\n",
    "\n",
    "#Title\n",
    "\n",
    "plt.title(\"Southern Hemisphere - Humidity (%) vs, Latitude Linear Regression\")\n",
    "\n",
    "#set x label\n",
    "\n",
    "plt.xlabel(\"Latitude\")\n",
    "\n",
    "#set y label\n",
    "\n",
    "plt.ylabel(\"Humidity (%)\")\n",
    "\n",
    "# save fig \n",
    "\n",
    "plt.savefig(\"output_data/Images/SouthHem_HumidityVsLatLinearRegression.png\")"
   ]
  },
  {
   "cell_type": "markdown",
   "metadata": {},
   "source": [
    "####  Northern Hemisphere - Cloudiness (%) vs. Latitude Linear Regression"
   ]
  },
  {
   "cell_type": "code",
   "execution_count": 26,
   "metadata": {},
   "outputs": [
    {
     "name": "stdout",
     "output_type": "stream",
     "text": [
      "The r-squared is : 0.22\n"
     ]
    },
    {
     "data": {
      "image/png": "[encoded data removed]",
      "text/plain": [
       "<Figure size 432x288 with 1 Axes>"
      ]
     },
     "metadata": {
      "needs_background": "light"
     },
     "output_type": "display_data"
    }
   ],
   "source": [
    "# function #1\n",
    "\n",
    "equation = linear_agression(northern_hemisphere[\"Latitude\"], northern_hemisphere[\"Cloudiness\"])\n",
    "\n",
    "# annotate function\n",
    "\n",
    "annotate(equation, 30, 40)\n",
    "\n",
    "#Title\n",
    "\n",
    "plt.title(\"Northern Hemisphere - Cloudiness (%) vs, Latitude Linear Regression\")\n",
    "\n",
    "#set x label\n",
    "\n",
    "plt.xlabel(\"Latitude\")\n",
    "\n",
    "#set y label\n",
    "\n",
    "plt.ylabel(\"Cloudiness (%)\")\n",
    "\n",
    "# save fig \n",
    "\n",
    "plt.savefig(\"output_data/Images/NorthHem_CloudinessVsLatLinearRegression.png\")"
   ]
  },
  {
   "cell_type": "markdown",
   "metadata": {},
   "source": [
    "####  Southern Hemisphere - Cloudiness (%) vs. Latitude Linear Regression"
   ]
  },
  {
   "cell_type": "code",
   "execution_count": 27,
   "metadata": {},
   "outputs": [
    {
     "name": "stdout",
     "output_type": "stream",
     "text": [
      "The r-squared is : -0.03\n"
     ]
    },
    {
     "data": {
      "image/png": "[encoded data removed]",
      "text/plain": [
       "<Figure size 432x288 with 1 Axes>"
      ]
     },
     "metadata": {
      "needs_background": "light"
     },
     "output_type": "display_data"
    }
   ],
   "source": [
    "# function #1\n",
    "\n",
    "equation = linear_agression(southern_hemisphere[\"Latitude\"], southern_hemisphere[\"Cloudiness\"])\n",
    "\n",
    "# annotate function\n",
    "\n",
    "annotate(equation, -30, 40)\n",
    "\n",
    "#Title\n",
    "\n",
    "plt.title(\"Southern Hemisphere - Cloudiness (%) vs, Latitude Linear Regression\")\n",
    "\n",
    "#set x label\n",
    "\n",
    "plt.xlabel(\"Latitude\")\n",
    "\n",
    "#set y label\n",
    "\n",
    "plt.ylabel(\"Cloudiness (%)\")\n",
    "\n",
    "# save fig \n",
    "\n",
    "plt.savefig(\"output_data/Images/SouthHem_CloudinessVsLatLinearRegression.png\")"
   ]
  },
  {
   "cell_type": "markdown",
   "metadata": {},
   "source": [
    "####  Northern Hemisphere - Wind Speed (mph) vs. Latitude Linear Regression"
   ]
  },
  {
   "cell_type": "code",
   "execution_count": 28,
   "metadata": {},
   "outputs": [
    {
     "name": "stdout",
     "output_type": "stream",
     "text": [
      "The r-squared is : 0.18\n"
     ]
    },
    {
     "data": {
      "image/png": "[encoded data removed]",
      "text/plain": [
       "<Figure size 432x288 with 1 Axes>"
      ]
     },
     "metadata": {
      "needs_background": "light"
     },
     "output_type": "display_data"
    }
   ],
   "source": [
    "# function #1\n",
    "\n",
    "equation = linear_agression(northern_hemisphere[\"Latitude\"], northern_hemisphere[\"Wind Speed\"])\n",
    "\n",
    "# annotate function\n",
    "\n",
    "annotate(equation, 40, 20)\n",
    "\n",
    "#Title\n",
    "\n",
    "plt.title(\"Northern Hemisphere - Wind Speed (mph) vs, Latitude Linear Regression\")\n",
    "\n",
    "#set x label\n",
    "\n",
    "plt.xlabel(\"Latitude\")\n",
    "\n",
    "#set y label\n",
    "\n",
    "plt.ylabel(\"Wind Speed (mph)\")\n",
    "\n",
    "# save fig \n",
    "\n",
    "plt.savefig(\"output_data/Images/NorthHem_WindSpeedVsLatLinearRegression.png\")"
   ]
  },
  {
   "cell_type": "markdown",
   "metadata": {},
   "source": [
    "####  Southern Hemisphere - Wind Speed (mph) vs. Latitude Linear Regression"
   ]
  },
  {
   "cell_type": "code",
   "execution_count": 29,
   "metadata": {},
   "outputs": [
    {
     "name": "stdout",
     "output_type": "stream",
     "text": [
      "The r-squared is : -0.1\n"
     ]
    },
    {
     "data": {
      "image/png": "[encoded data removed]",
      "text/plain": [
       "<Figure size 432x288 with 1 Axes>"
      ]
     },
     "metadata": {
      "needs_background": "light"
     },
     "output_type": "display_data"
    }
   ],
   "source": [
    "# function #1\n",
    "\n",
    "equation = linear_agression(southern_hemisphere[\"Latitude\"], southern_hemisphere[\"Wind Speed\"])\n",
    "\n",
    "# annotate function\n",
    "\n",
    "annotate(equation, -30, 15)\n",
    "\n",
    "#Title\n",
    "\n",
    "plt.title(\"Southern Hemisphere - Wind Speed (mph) vs, Latitude Linear Regression\")\n",
    "\n",
    "#set x label\n",
    "\n",
    "plt.xlabel(\"Latitude\")\n",
    "\n",
    "#set y label\n",
    "\n",
    "plt.ylabel(\"Wind Speed (mph)\")\n",
    "\n",
    "# save fig \n",
    "\n",
    "plt.savefig(\"output_data/Images/SouthHem_WindSpeedVsLatLinearRegression.png\")"
   ]
  },
  {
   "cell_type": "code",
   "execution_count": 38,
   "metadata": {},
   "outputs": [
    {
     "name": "stdout",
     "output_type": "stream",
     "text": [
      "Comment:\n",
      "             \n",
      "Since the r-squared is closer to zero or negative in some cases, the Humidity, Cloudiness and Wind Speed cannot be explianed by City Latitudes in both Hemispheres.\n",
      "There seems to a strong corrleation of temperatures and latitudes in both hemispheres.\n",
      "The r squared for Souther Hemisphere shows that Temperature increase with increase in Latitude.\n"
     ]
    }
   ],
   "source": [
    "print (\"Comment:\")\n",
    "\n",
    "print(f\"             \")\n",
    "\n",
    "print(f\"Since the r-squared is closer to zero or negative in some cases, the Humidity, Cloudiness and Wind Speed cannot be explianed by City Latitudes in both Hemispheres.\")\n",
    "print(f\"There seems to a strong corrleation of temperatures and latitudes in both hemispheres.\")\n",
    "print(f\"The r squared for Souther Hemisphere shows that Temperature increase with increase in Latitude.\")\n",
    "      "
   ]
  },
  {
   "cell_type": "code",
   "execution_count": null,
   "metadata": {},
   "outputs": [],
   "source": []
  }
 ],
 "metadata": {
  "anaconda-cloud": {},
  "kernel_info": {
   "name": "python3"
  },
  "kernelspec": {
   "display_name": "Python 3",
   "language": "python",
   "name": "python3"
  },
  "language_info": {
   "codemirror_mode": {
    "name": "ipython",
    "version": 3
   },
   "file_extension": ".py",
   "mimetype": "text/x-python",
   "name": "python",
   "nbconvert_exporter": "python",
   "pygments_lexer": "ipython3",
   "version": "3.8.3"
  },
  "latex_envs": {
   "LaTeX_envs_menu_present": true,
   "autoclose": false,
   "autocomplete": true,
   "bibliofile": "biblio.bib",
   "cite_by": "apalike",
   "current_citInitial": 1,
   "eqLabelWithNumbers": true,
   "eqNumInitial": 1,
   "hotkeys": {
    "equation": "Ctrl-E",
    "itemize": "Ctrl-I"
   },
   "labels_anchors": false,
   "latex_user_defs": false,
   "report_style_numbering": false,
   "user_envs_cfg": false
  },
  "nteract": {
   "version": "0.12.3"
  }
 },
 "nbformat": 4,
 "nbformat_minor": 2
}
